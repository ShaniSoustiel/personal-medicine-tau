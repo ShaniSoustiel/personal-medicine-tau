{
 "cells": [
  {
   "metadata": {},
   "cell_type": "markdown",
   "source": [
    "# Exercise 3 - part 1: Association Test\n",
    "### Chosen datasets: ```Blood stem cell (GSE18067)```, ```Erythroid (GSE18067)```"
   ],
   "id": "847ccf902a2288c2"
  },
  {
   "metadata": {},
   "cell_type": "markdown",
   "source": "Importing libraries",
   "id": "b7a53d4fa40d0800"
  },
  {
   "metadata": {
    "ExecuteTime": {
     "end_time": "2024-09-03T08:55:09.378077Z",
     "start_time": "2024-09-03T08:55:09.375334Z"
    }
   },
   "cell_type": "code",
   "source": [
    "import pandas as pd\n",
    "import numpy as np\n",
    "import matplotlib.pyplot as plt\n",
    "import seaborn as sns\n",
    "import scipy.stats as stats"
   ],
   "id": "295539d021506fdb",
   "outputs": [],
   "execution_count": 1
  },
  {
   "metadata": {},
   "cell_type": "markdown",
   "source": "Import data",
   "id": "98596e9bd2cb4ac7"
  },
  {
   "metadata": {
    "ExecuteTime": {
     "end_time": "2024-09-03T08:55:11.582953Z",
     "start_time": "2024-09-03T08:55:11.527073Z"
    }
   },
   "cell_type": "code",
   "source": [
    "df_eryt = pd.read_csv('./data/step3_erythroid_preprocessed_expression_data.csv')\n",
    "df_stem = pd.read_csv('./data/step3_stem_preprocessed_expression_data.csv')\n",
    "df_un_gen = pd.read_csv('./data/step3_unique_genotypes.csv')"
   ],
   "id": "fb77369e0a8167f8",
   "outputs": [],
   "execution_count": 2
  },
  {
   "metadata": {
    "ExecuteTime": {
     "end_time": "2024-09-03T08:55:18.147942Z",
     "start_time": "2024-09-03T08:55:18.139718Z"
    }
   },
   "cell_type": "code",
   "source": [
    "# Drop the column from eryt data\n",
    "df_eryt_no_symbol = df_eryt.drop('Symbol', axis=1)\n",
    "\n",
    "# Drop the columns from genotypes\n",
    "df_un_gen_only_BXD = df_un_gen.drop(['Unnamed: 0', 'Locus', 'Chr_Build37', 'Build37_position'], axis=1)"
   ],
   "id": "6183de4e4b40aca8",
   "outputs": [],
   "execution_count": 3
  },
  {
   "metadata": {
    "ExecuteTime": {
     "end_time": "2024-09-03T08:55:45.907772Z",
     "start_time": "2024-09-03T08:55:45.900822Z"
    }
   },
   "cell_type": "code",
   "source": [
    "# Get the column names of the two dataframes\n",
    "columns_df_without_symbol = df_eryt_no_symbol.columns\n",
    "columns_df_un_gen_only_BXD = df_un_gen_only_BXD.columns\n",
    "\n",
    "# Find the common columns\n",
    "common_columns = columns_df_without_symbol.intersection(columns_df_un_gen_only_BXD)\n",
    "\n",
    "# Filter the dataframes by the common columns\n",
    "df_eryt_no_symbol_filtered = df_eryt_no_symbol[common_columns]\n",
    "df_un_gen_only_BXD_filtered = df_un_gen_only_BXD[common_columns]"
   ],
   "id": "ee64d9ad024fbea3",
   "outputs": [],
   "execution_count": 4
  },
  {
   "metadata": {
    "ExecuteTime": {
     "end_time": "2024-09-03T08:56:10.204371Z",
     "start_time": "2024-09-03T08:56:10.184938Z"
    }
   },
   "cell_type": "code",
   "source": [
    "# Replace 'B' with 0 and 'D' with 1 in df_un_gen_only_BXD_filtered\n",
    "df_un_gen_only_BXD_filtered.replace('B', 0, inplace=True)\n",
    "df_un_gen_only_BXD_filtered.replace('D', 1, inplace=True)"
   ],
   "id": "53c3e842b2cb6180",
   "outputs": [
    {
     "name": "stderr",
     "output_type": "stream",
     "text": [
      "/var/folders/gy/pcf16vh94yb5bw_rvktb_cyh0000gn/T/ipykernel_3442/3100740381.py:2: SettingWithCopyWarning: \n",
      "A value is trying to be set on a copy of a slice from a DataFrame\n",
      "\n",
      "See the caveats in the documentation: https://pandas.pydata.org/pandas-docs/stable/user_guide/indexing.html#returning-a-view-versus-a-copy\n",
      "  df_un_gen_only_BXD_filtered.replace('B', 0, inplace=True)\n",
      "/var/folders/gy/pcf16vh94yb5bw_rvktb_cyh0000gn/T/ipykernel_3442/3100740381.py:3: FutureWarning: Downcasting behavior in `replace` is deprecated and will be removed in a future version. To retain the old behavior, explicitly call `result.infer_objects(copy=False)`. To opt-in to the future behavior, set `pd.set_option('future.no_silent_downcasting', True)`\n",
      "  df_un_gen_only_BXD_filtered.replace('D', 1, inplace=True)\n",
      "/var/folders/gy/pcf16vh94yb5bw_rvktb_cyh0000gn/T/ipykernel_3442/3100740381.py:3: SettingWithCopyWarning: \n",
      "A value is trying to be set on a copy of a slice from a DataFrame\n",
      "\n",
      "See the caveats in the documentation: https://pandas.pydata.org/pandas-docs/stable/user_guide/indexing.html#returning-a-view-versus-a-copy\n",
      "  df_un_gen_only_BXD_filtered.replace('D', 1, inplace=True)\n"
     ]
    }
   ],
   "execution_count": 5
  },
  {
   "metadata": {
    "ExecuteTime": {
     "end_time": "2024-09-03T08:56:19.025852Z",
     "start_time": "2024-09-03T08:56:19.016975Z"
    }
   },
   "cell_type": "code",
   "source": [
    "# remove rows with NaN values\n",
    "df_eryt_no_symbol_filtered.dropna(inplace=True)\n",
    "df_un_gen_only_BXD_filtered.dropna(inplace=True)"
   ],
   "id": "f35b67ecc75976ef",
   "outputs": [
    {
     "name": "stderr",
     "output_type": "stream",
     "text": [
      "/var/folders/gy/pcf16vh94yb5bw_rvktb_cyh0000gn/T/ipykernel_3442/3128984312.py:3: SettingWithCopyWarning: \n",
      "A value is trying to be set on a copy of a slice from a DataFrame\n",
      "\n",
      "See the caveats in the documentation: https://pandas.pydata.org/pandas-docs/stable/user_guide/indexing.html#returning-a-view-versus-a-copy\n",
      "  df_un_gen_only_BXD_filtered.dropna(inplace=True)\n"
     ]
    }
   ],
   "execution_count": 6
  },
  {
   "metadata": {
    "ExecuteTime": {
     "end_time": "2024-09-03T08:56:22.469549Z",
     "start_time": "2024-09-03T08:56:22.460539Z"
    }
   },
   "cell_type": "code",
   "source": [
    "# remove columns with 'U' values\n",
    "df_un_gen_only_BXD_filtered = df_un_gen_only_BXD_filtered.loc[:,~df_un_gen_only_BXD_filtered.isin(['U']).any()]"
   ],
   "id": "a3d5b3ea8c0d956",
   "outputs": [],
   "execution_count": 7
  },
  {
   "metadata": {
    "ExecuteTime": {
     "end_time": "2024-09-03T07:54:56.875388Z",
     "start_time": "2024-09-03T07:54:56.869463Z"
    }
   },
   "cell_type": "code",
   "source": [
    "# Select the row from eryt data\n",
    "eryt_row = df_eryt_no_symbol_filtered.iloc[2]\n",
    "eryt_array = np.array(eryt_row)\n",
    "\n",
    "# Select the row from genotypes\n",
    "gen_row = df_un_gen_only_BXD_filtered.iloc[7]\n",
    "gen_array = np.array(gen_row)\n",
    "\n",
    "# Replace 'B' with 0 and 'D' with 1 in gen_array\n",
    "gen_array[gen_array == 'B'] = 0\n",
    "gen_array[gen_array == 'D'] = 1\n",
    "gen_array = gen_array.astype(int)"
   ],
   "id": "7c23e1b62793f6b9",
   "outputs": [],
   "execution_count": 10
  },
  {
   "metadata": {},
   "cell_type": "markdown",
   "source": "Association test - using linear regression model, first try for 1 row each",
   "id": "af6a76c415039d21"
  },
  {
   "metadata": {},
   "cell_type": "code",
   "outputs": [],
   "execution_count": null,
   "source": [
    "# perform linear regression model\n",
    "slope, intercept, r_value, p_value, std_err = stats.linregress(gen_array, eryt_array)"
   ],
   "id": "495ed8032265ebe1"
  },
  {
   "metadata": {
    "ExecuteTime": {
     "end_time": "2024-09-03T07:55:53.257589Z",
     "start_time": "2024-09-03T07:55:53.188399Z"
    }
   },
   "cell_type": "code",
   "source": [
    "# Perform linear regression\n",
    "slope, intercept, r_value, p_value, std_err = stats.linregress(gen_array, eryt_array)\n",
    "\n",
    "# Print the results\n",
    "print(f'Slope: {slope}')\n",
    "print(f'Intercept: {intercept}')\n",
    "print(f'R value: {r_value}')\n",
    "print(f'P value: {p_value}')\n",
    "print(f'Standard error: {std_err}')"
   ],
   "id": "588f898f75e0e598",
   "outputs": [
    {
     "name": "stdout",
     "output_type": "stream",
     "text": [
      "Slope: 0.002980925085714399\n",
      "Intercept: 8.608185798200001\n",
      "R value: 0.003121971502427609\n",
      "P value: 0.9905120465289847\n",
      "Standard error: 0.24653261442717375\n"
     ]
    }
   ],
   "execution_count": 11
  },
  {
   "metadata": {
    "ExecuteTime": {
     "end_time": "2024-09-03T08:17:05.678354Z",
     "start_time": "2024-09-03T08:17:05.441437Z"
    }
   },
   "cell_type": "code",
   "source": [
    "# Plot the data\n",
    "plt.figure(figsize=(10, 8))\n",
    "plt.scatter(gen_array, eryt_array)\n",
    "plt.plot(gen_array, slope * gen_array + intercept, color='red')\n",
    "plt.legend(['Data points', f'Yhat: {round(slope,3)}*X+{round(intercept,3)}', 'Regression line', f'R^2: {round(r_value**2, 3)}'], loc='lower left')\n",
    "plt.xlabel('Genotypes')\n",
    "plt.ylabel('Expression levels')\n",
    "plt.title('Association test')\n",
    "plt.show()"
   ],
   "id": "267669133442e047",
   "outputs": [
    {
     "data": {
      "text/plain": [
       "<Figure size 1000x800 with 1 Axes>"
      ],
      "image/png": "[encoded data removed]"
     },
     "metadata": {},
     "output_type": "display_data"
    }
   ],
   "execution_count": 25
  },
  {
   "metadata": {},
   "cell_type": "markdown",
   "source": "Association test - using linear regression model, for all rows",
   "id": "a1dbfdd548d15390"
  },
  {
   "metadata": {
    "ExecuteTime": {
     "end_time": "2024-09-03T09:10:27.960609Z",
     "start_time": "2024-09-03T09:10:27.921885Z"
    }
   },
   "cell_type": "code",
   "source": [
    "# df_without_symbol_filtered = df_without_symbol[common_columns]\n",
    "# df_un_gen_only_BXD_filtered = df_un_gen_only_BXD[common_columns]\n",
    "\n",
    "# Find the common indices\n",
    "common_indices = df_eryt_no_symbol_filtered.index.intersection(df_un_gen_only_BXD_filtered.index)\n",
    "\n",
    "# Filter the dataframes to only include rows with the common indices\n",
    "df_eryt_no_symbol_filtered_common = df_eryt_no_symbol_filtered.loc[common_indices]\n",
    "df_un_gen_only_BXD_filtered_common = df_un_gen_only_BXD_filtered.loc[common_indices]"
   ],
   "id": "3f8bb09773d2f597",
   "outputs": [],
   "execution_count": 10
  },
  {
   "metadata": {
    "ExecuteTime": {
     "end_time": "2024-09-03T10:40:04.974703Z",
     "start_time": "2024-09-03T10:40:04.904117Z"
    }
   },
   "cell_type": "code",
   "source": [
    "print(df_eryt_no_symbol_filtered_common.columns)\n",
    "print(df_un_gen_only_BXD_filtered_common.columns)"
   ],
   "id": "266ebabe3a2a321e",
   "outputs": [
    {
     "name": "stdout",
     "output_type": "stream",
     "text": [
      "Index(['BXD1', 'BXD12', 'BXD13', 'BXD14', 'BXD15', 'BXD16', 'BXD18', 'BXD19',\n",
      "       'BXD2', 'BXD23', 'BXD27', 'BXD29', 'BXD31', 'BXD40', 'BXD6', 'BXD8',\n",
      "       'BXD9'],\n",
      "      dtype='object')\n",
      "Index(['BXD1', 'BXD12', 'BXD13', 'BXD14', 'BXD15', 'BXD16', 'BXD18', 'BXD19',\n",
      "       'BXD2', 'BXD23', 'BXD27', 'BXD29', 'BXD31', 'BXD40', 'BXD6', 'BXD8',\n",
      "       'BXD9'],\n",
      "      dtype='object')\n"
     ]
    }
   ],
   "execution_count": 12
  },
  {
   "metadata": {
    "ExecuteTime": {
     "end_time": "2024-09-03T11:03:31.158163Z",
     "start_time": "2024-09-03T11:03:29.382478Z"
    }
   },
   "cell_type": "code",
   "source": [
    "# Initialize a dataframe to store the p-values\n",
    "p_values = pd.DataFrame(index=df_eryt_no_symbol_filtered_common.columns, columns=df_un_gen_only_BXD_filtered_common.columns)\n",
    "\n",
    "# Iterate over all pairs of columns\n",
    "for row1 in df_eryt_no_symbol_filtered_common.iterrows():\n",
    "    for row2 in df_un_gen_only_BXD_filtered_common.iterrows():\n",
    "        # Perform linear regression on each pair of values and store the p-values\n",
    "        p_value = df_eryt_no_symbol_filtered_common[row1].combine(df_un_gen_only_BXD_filtered_common[row2], lambda val1, val2: stats.linregress([val1], [val2])[3])\n",
    "\n",
    "        # Store the p-value in the dataframe\n",
    "        p_values.at[row1, row2] = p_value\n",
    "\n",
    "# Add information to the column names\n",
    "p_values.columns = [f'{col}_SNP' for col in p_values.columns]\n",
    "p_values.index = [f'{idx}_expression' for idx in p_values.index]\n",
    "\n",
    "print(p_values)"
   ],
   "id": "385a0df2c755ff72",
   "outputs": [
    {
     "ename": "InvalidIndexError",
     "evalue": "(0, BXD1      9.682020\nBXD12     9.457449\nBXD13     9.431814\nBXD14     6.488704\nBXD15     9.921337\nBXD16     9.979041\nBXD18     8.632000\nBXD19     9.902992\nBXD2      8.937370\nBXD23     8.895811\nBXD27     9.104334\nBXD29     7.640100\nBXD31     8.488427\nBXD40     9.141938\nBXD6      9.971793\nBXD8      7.925591\nBXD9     10.147999\nName: 0, dtype: float64)",
     "output_type": "error",
     "traceback": [
      "\u001B[0;31m---------------------------------------------------------------------------\u001B[0m",
      "\u001B[0;31mTypeError\u001B[0m                                 Traceback (most recent call last)",
      "File \u001B[0;32m~/Documents/GitHub/personal_medicine/.venv/lib/python3.12/site-packages/pandas/core/indexes/base.py:3805\u001B[0m, in \u001B[0;36mIndex.get_loc\u001B[0;34m(self, key)\u001B[0m\n\u001B[1;32m   3804\u001B[0m \u001B[38;5;28;01mtry\u001B[39;00m:\n\u001B[0;32m-> 3805\u001B[0m     \u001B[38;5;28;01mreturn\u001B[39;00m \u001B[38;5;28;43mself\u001B[39;49m\u001B[38;5;241;43m.\u001B[39;49m\u001B[43m_engine\u001B[49m\u001B[38;5;241;43m.\u001B[39;49m\u001B[43mget_loc\u001B[49m\u001B[43m(\u001B[49m\u001B[43mcasted_key\u001B[49m\u001B[43m)\u001B[49m\n\u001B[1;32m   3806\u001B[0m \u001B[38;5;28;01mexcept\u001B[39;00m \u001B[38;5;167;01mKeyError\u001B[39;00m \u001B[38;5;28;01mas\u001B[39;00m err:\n",
      "File \u001B[0;32mindex.pyx:167\u001B[0m, in \u001B[0;36mpandas._libs.index.IndexEngine.get_loc\u001B[0;34m()\u001B[0m\n",
      "File \u001B[0;32mindex.pyx:173\u001B[0m, in \u001B[0;36mpandas._libs.index.IndexEngine.get_loc\u001B[0;34m()\u001B[0m\n",
      "\u001B[0;31mTypeError\u001B[0m: '(0, BXD1      9.682020\nBXD12     9.457449\nBXD13     9.431814\nBXD14     6.488704\nBXD15     9.921337\nBXD16     9.979041\nBXD18     8.632000\nBXD19     9.902992\nBXD2      8.937370\nBXD23     8.895811\nBXD27     9.104334\nBXD29     7.640100\nBXD31     8.488427\nBXD40     9.141938\nBXD6      9.971793\nBXD8      7.925591\nBXD9     10.147999\nName: 0, dtype: float64)' is an invalid key",
      "\nDuring handling of the above exception, another exception occurred:\n",
      "\u001B[0;31mInvalidIndexError\u001B[0m                         Traceback (most recent call last)",
      "Cell \u001B[0;32mIn[20], line 8\u001B[0m\n\u001B[1;32m      5\u001B[0m \u001B[38;5;28;01mfor\u001B[39;00m row1 \u001B[38;5;129;01min\u001B[39;00m df_eryt_no_symbol_filtered_common\u001B[38;5;241m.\u001B[39miterrows():\n\u001B[1;32m      6\u001B[0m     \u001B[38;5;28;01mfor\u001B[39;00m row2 \u001B[38;5;129;01min\u001B[39;00m df_un_gen_only_BXD_filtered_common\u001B[38;5;241m.\u001B[39miterrows():\n\u001B[1;32m      7\u001B[0m         \u001B[38;5;66;03m# Perform linear regression on each pair of values and store the p-values\u001B[39;00m\n\u001B[0;32m----> 8\u001B[0m         p_value \u001B[38;5;241m=\u001B[39m \u001B[43mdf_eryt_no_symbol_filtered_common\u001B[49m\u001B[43m[\u001B[49m\u001B[43mrow1\u001B[49m\u001B[43m]\u001B[49m\u001B[38;5;241m.\u001B[39mcombine(df_un_gen_only_BXD_filtered_common[row2], \u001B[38;5;28;01mlambda\u001B[39;00m val1, val2: stats\u001B[38;5;241m.\u001B[39mlinregress([val1], [val2])[\u001B[38;5;241m3\u001B[39m])\n\u001B[1;32m     10\u001B[0m         \u001B[38;5;66;03m# Store the p-value in the dataframe\u001B[39;00m\n\u001B[1;32m     11\u001B[0m         p_values\u001B[38;5;241m.\u001B[39mat[row1, row2] \u001B[38;5;241m=\u001B[39m p_value\n",
      "File \u001B[0;32m~/Documents/GitHub/personal_medicine/.venv/lib/python3.12/site-packages/pandas/core/frame.py:4102\u001B[0m, in \u001B[0;36mDataFrame.__getitem__\u001B[0;34m(self, key)\u001B[0m\n\u001B[1;32m   4100\u001B[0m \u001B[38;5;28;01mif\u001B[39;00m \u001B[38;5;28mself\u001B[39m\u001B[38;5;241m.\u001B[39mcolumns\u001B[38;5;241m.\u001B[39mnlevels \u001B[38;5;241m>\u001B[39m \u001B[38;5;241m1\u001B[39m:\n\u001B[1;32m   4101\u001B[0m     \u001B[38;5;28;01mreturn\u001B[39;00m \u001B[38;5;28mself\u001B[39m\u001B[38;5;241m.\u001B[39m_getitem_multilevel(key)\n\u001B[0;32m-> 4102\u001B[0m indexer \u001B[38;5;241m=\u001B[39m \u001B[38;5;28;43mself\u001B[39;49m\u001B[38;5;241;43m.\u001B[39;49m\u001B[43mcolumns\u001B[49m\u001B[38;5;241;43m.\u001B[39;49m\u001B[43mget_loc\u001B[49m\u001B[43m(\u001B[49m\u001B[43mkey\u001B[49m\u001B[43m)\u001B[49m\n\u001B[1;32m   4103\u001B[0m \u001B[38;5;28;01mif\u001B[39;00m is_integer(indexer):\n\u001B[1;32m   4104\u001B[0m     indexer \u001B[38;5;241m=\u001B[39m [indexer]\n",
      "File \u001B[0;32m~/Documents/GitHub/personal_medicine/.venv/lib/python3.12/site-packages/pandas/core/indexes/base.py:3817\u001B[0m, in \u001B[0;36mIndex.get_loc\u001B[0;34m(self, key)\u001B[0m\n\u001B[1;32m   3812\u001B[0m     \u001B[38;5;28;01mraise\u001B[39;00m \u001B[38;5;167;01mKeyError\u001B[39;00m(key) \u001B[38;5;28;01mfrom\u001B[39;00m \u001B[38;5;21;01merr\u001B[39;00m\n\u001B[1;32m   3813\u001B[0m \u001B[38;5;28;01mexcept\u001B[39;00m \u001B[38;5;167;01mTypeError\u001B[39;00m:\n\u001B[1;32m   3814\u001B[0m     \u001B[38;5;66;03m# If we have a listlike key, _check_indexing_error will raise\u001B[39;00m\n\u001B[1;32m   3815\u001B[0m     \u001B[38;5;66;03m#  InvalidIndexError. Otherwise we fall through and re-raise\u001B[39;00m\n\u001B[1;32m   3816\u001B[0m     \u001B[38;5;66;03m#  the TypeError.\u001B[39;00m\n\u001B[0;32m-> 3817\u001B[0m     \u001B[38;5;28;43mself\u001B[39;49m\u001B[38;5;241;43m.\u001B[39;49m\u001B[43m_check_indexing_error\u001B[49m\u001B[43m(\u001B[49m\u001B[43mkey\u001B[49m\u001B[43m)\u001B[49m\n\u001B[1;32m   3818\u001B[0m     \u001B[38;5;28;01mraise\u001B[39;00m\n",
      "File \u001B[0;32m~/Documents/GitHub/personal_medicine/.venv/lib/python3.12/site-packages/pandas/core/indexes/base.py:6059\u001B[0m, in \u001B[0;36mIndex._check_indexing_error\u001B[0;34m(self, key)\u001B[0m\n\u001B[1;32m   6055\u001B[0m \u001B[38;5;28;01mdef\u001B[39;00m \u001B[38;5;21m_check_indexing_error\u001B[39m(\u001B[38;5;28mself\u001B[39m, key):\n\u001B[1;32m   6056\u001B[0m     \u001B[38;5;28;01mif\u001B[39;00m \u001B[38;5;129;01mnot\u001B[39;00m is_scalar(key):\n\u001B[1;32m   6057\u001B[0m         \u001B[38;5;66;03m# if key is not a scalar, directly raise an error (the code below\u001B[39;00m\n\u001B[1;32m   6058\u001B[0m         \u001B[38;5;66;03m# would convert to numpy arrays and raise later any way) - GH29926\u001B[39;00m\n\u001B[0;32m-> 6059\u001B[0m         \u001B[38;5;28;01mraise\u001B[39;00m InvalidIndexError(key)\n",
      "\u001B[0;31mInvalidIndexError\u001B[0m: (0, BXD1      9.682020\nBXD12     9.457449\nBXD13     9.431814\nBXD14     6.488704\nBXD15     9.921337\nBXD16     9.979041\nBXD18     8.632000\nBXD19     9.902992\nBXD2      8.937370\nBXD23     8.895811\nBXD27     9.104334\nBXD29     7.640100\nBXD31     8.488427\nBXD40     9.141938\nBXD6      9.971793\nBXD8      7.925591\nBXD9     10.147999\nName: 0, dtype: float64)"
     ]
    }
   ],
   "execution_count": 20
  },
  {
   "metadata": {
    "ExecuteTime": {
     "end_time": "2024-09-03T10:59:29.013159Z",
     "start_time": "2024-09-03T10:59:28.619768Z"
    }
   },
   "cell_type": "code",
   "source": [
    "# Initialize a dataframe to store the p-values\n",
    "p_values = pd.DataFrame(index=df_eryt_no_symbol_filtered_common.columns, columns=df_un_gen_only_BXD_filtered_common.columns)\n",
    "\n",
    "# Iterate over all pairs of rows\n",
    "for (_, row1), (_, row2) in zip(df_eryt_no_symbol_filtered_common.iterrows(), df_un_gen_only_BXD_filtered_common.iterrows()):\n",
    "    # Perform linear regression on each pair of values and store the p-values\n",
    "    p_value = row1.combine(row2, lambda val1, val2: stats.linregress([val1], [val2])[3])\n",
    "\n",
    "    # Store the p-value in the dataframe\n",
    "    p_values.loc[row1.name, row2.name] = p_value\n",
    "\n",
    "# Add information to the column names\n",
    "p_values.columns = [f'{col}_SNP' for col in p_values.columns]\n",
    "p_values.index = [f'{idx}_expression' for idx in p_values.index]\n",
    "\n",
    "print(p_values)"
   ],
   "id": "aa5261c5944ff7c0",
   "outputs": [
    {
     "ename": "ValueError",
     "evalue": "Incompatible indexer with Series",
     "output_type": "error",
     "traceback": [
      "\u001B[0;31m---------------------------------------------------------------------------\u001B[0m",
      "\u001B[0;31mValueError\u001B[0m                                Traceback (most recent call last)",
      "Cell \u001B[0;32mIn[18], line 10\u001B[0m\n\u001B[1;32m      7\u001B[0m     p_value \u001B[38;5;241m=\u001B[39m row1\u001B[38;5;241m.\u001B[39mcombine(row2, \u001B[38;5;28;01mlambda\u001B[39;00m val1, val2: stats\u001B[38;5;241m.\u001B[39mlinregress([val1], [val2])[\u001B[38;5;241m3\u001B[39m])\n\u001B[1;32m      9\u001B[0m     \u001B[38;5;66;03m# Store the p-value in the dataframe\u001B[39;00m\n\u001B[0;32m---> 10\u001B[0m     \u001B[43mp_values\u001B[49m\u001B[38;5;241;43m.\u001B[39;49m\u001B[43mloc\u001B[49m\u001B[43m[\u001B[49m\u001B[43mrow1\u001B[49m\u001B[38;5;241;43m.\u001B[39;49m\u001B[43mname\u001B[49m\u001B[43m,\u001B[49m\u001B[43m \u001B[49m\u001B[43mrow2\u001B[49m\u001B[38;5;241;43m.\u001B[39;49m\u001B[43mname\u001B[49m\u001B[43m]\u001B[49m \u001B[38;5;241m=\u001B[39m p_value\n\u001B[1;32m     12\u001B[0m \u001B[38;5;66;03m# Add information to the column names\u001B[39;00m\n\u001B[1;32m     13\u001B[0m p_values\u001B[38;5;241m.\u001B[39mcolumns \u001B[38;5;241m=\u001B[39m [\u001B[38;5;124mf\u001B[39m\u001B[38;5;124m'\u001B[39m\u001B[38;5;132;01m{\u001B[39;00mcol\u001B[38;5;132;01m}\u001B[39;00m\u001B[38;5;124m_SNP\u001B[39m\u001B[38;5;124m'\u001B[39m \u001B[38;5;28;01mfor\u001B[39;00m col \u001B[38;5;129;01min\u001B[39;00m p_values\u001B[38;5;241m.\u001B[39mcolumns]\n",
      "File \u001B[0;32m~/Documents/GitHub/personal_medicine/.venv/lib/python3.12/site-packages/pandas/core/indexing.py:911\u001B[0m, in \u001B[0;36m_LocationIndexer.__setitem__\u001B[0;34m(self, key, value)\u001B[0m\n\u001B[1;32m    908\u001B[0m \u001B[38;5;28mself\u001B[39m\u001B[38;5;241m.\u001B[39m_has_valid_setitem_indexer(key)\n\u001B[1;32m    910\u001B[0m iloc \u001B[38;5;241m=\u001B[39m \u001B[38;5;28mself\u001B[39m \u001B[38;5;28;01mif\u001B[39;00m \u001B[38;5;28mself\u001B[39m\u001B[38;5;241m.\u001B[39mname \u001B[38;5;241m==\u001B[39m \u001B[38;5;124m\"\u001B[39m\u001B[38;5;124miloc\u001B[39m\u001B[38;5;124m\"\u001B[39m \u001B[38;5;28;01melse\u001B[39;00m \u001B[38;5;28mself\u001B[39m\u001B[38;5;241m.\u001B[39mobj\u001B[38;5;241m.\u001B[39miloc\n\u001B[0;32m--> 911\u001B[0m \u001B[43miloc\u001B[49m\u001B[38;5;241;43m.\u001B[39;49m\u001B[43m_setitem_with_indexer\u001B[49m\u001B[43m(\u001B[49m\u001B[43mindexer\u001B[49m\u001B[43m,\u001B[49m\u001B[43m \u001B[49m\u001B[43mvalue\u001B[49m\u001B[43m,\u001B[49m\u001B[43m \u001B[49m\u001B[38;5;28;43mself\u001B[39;49m\u001B[38;5;241;43m.\u001B[39;49m\u001B[43mname\u001B[49m\u001B[43m)\u001B[49m\n",
      "File \u001B[0;32m~/Documents/GitHub/personal_medicine/.venv/lib/python3.12/site-packages/pandas/core/indexing.py:1890\u001B[0m, in \u001B[0;36m_iLocIndexer._setitem_with_indexer\u001B[0;34m(self, indexer, value, name)\u001B[0m\n\u001B[1;32m   1885\u001B[0m         \u001B[38;5;28mself\u001B[39m\u001B[38;5;241m.\u001B[39mobj[key] \u001B[38;5;241m=\u001B[39m infer_fill_value(value)\n\u001B[1;32m   1887\u001B[0m     new_indexer \u001B[38;5;241m=\u001B[39m convert_from_missing_indexer_tuple(\n\u001B[1;32m   1888\u001B[0m         indexer, \u001B[38;5;28mself\u001B[39m\u001B[38;5;241m.\u001B[39mobj\u001B[38;5;241m.\u001B[39maxes\n\u001B[1;32m   1889\u001B[0m     )\n\u001B[0;32m-> 1890\u001B[0m     \u001B[38;5;28;43mself\u001B[39;49m\u001B[38;5;241;43m.\u001B[39;49m\u001B[43m_setitem_with_indexer\u001B[49m\u001B[43m(\u001B[49m\u001B[43mnew_indexer\u001B[49m\u001B[43m,\u001B[49m\u001B[43m \u001B[49m\u001B[43mvalue\u001B[49m\u001B[43m,\u001B[49m\u001B[43m \u001B[49m\u001B[43mname\u001B[49m\u001B[43m)\u001B[49m\n\u001B[1;32m   1892\u001B[0m     \u001B[38;5;28;01mreturn\u001B[39;00m\n\u001B[1;32m   1894\u001B[0m \u001B[38;5;66;03m# reindex the axis\u001B[39;00m\n\u001B[1;32m   1895\u001B[0m \u001B[38;5;66;03m# make sure to clear the cache because we are\u001B[39;00m\n\u001B[1;32m   1896\u001B[0m \u001B[38;5;66;03m# just replacing the block manager here\u001B[39;00m\n\u001B[1;32m   1897\u001B[0m \u001B[38;5;66;03m# so the object is the same\u001B[39;00m\n",
      "File \u001B[0;32m~/Documents/GitHub/personal_medicine/.venv/lib/python3.12/site-packages/pandas/core/indexing.py:1942\u001B[0m, in \u001B[0;36m_iLocIndexer._setitem_with_indexer\u001B[0;34m(self, indexer, value, name)\u001B[0m\n\u001B[1;32m   1939\u001B[0m \u001B[38;5;66;03m# align and set the values\u001B[39;00m\n\u001B[1;32m   1940\u001B[0m \u001B[38;5;28;01mif\u001B[39;00m take_split_path:\n\u001B[1;32m   1941\u001B[0m     \u001B[38;5;66;03m# We have to operate column-wise\u001B[39;00m\n\u001B[0;32m-> 1942\u001B[0m     \u001B[38;5;28;43mself\u001B[39;49m\u001B[38;5;241;43m.\u001B[39;49m\u001B[43m_setitem_with_indexer_split_path\u001B[49m\u001B[43m(\u001B[49m\u001B[43mindexer\u001B[49m\u001B[43m,\u001B[49m\u001B[43m \u001B[49m\u001B[43mvalue\u001B[49m\u001B[43m,\u001B[49m\u001B[43m \u001B[49m\u001B[43mname\u001B[49m\u001B[43m)\u001B[49m\n\u001B[1;32m   1943\u001B[0m \u001B[38;5;28;01melse\u001B[39;00m:\n\u001B[1;32m   1944\u001B[0m     \u001B[38;5;28mself\u001B[39m\u001B[38;5;241m.\u001B[39m_setitem_single_block(indexer, value, name)\n",
      "File \u001B[0;32m~/Documents/GitHub/personal_medicine/.venv/lib/python3.12/site-packages/pandas/core/indexing.py:1963\u001B[0m, in \u001B[0;36m_iLocIndexer._setitem_with_indexer_split_path\u001B[0;34m(self, indexer, value, name)\u001B[0m\n\u001B[1;32m   1960\u001B[0m \u001B[38;5;28;01mif\u001B[39;00m (\u001B[38;5;28misinstance\u001B[39m(value, ABCSeries) \u001B[38;5;129;01mand\u001B[39;00m name \u001B[38;5;241m!=\u001B[39m \u001B[38;5;124m\"\u001B[39m\u001B[38;5;124miloc\u001B[39m\u001B[38;5;124m\"\u001B[39m) \u001B[38;5;129;01mor\u001B[39;00m \u001B[38;5;28misinstance\u001B[39m(value, \u001B[38;5;28mdict\u001B[39m):\n\u001B[1;32m   1961\u001B[0m     \u001B[38;5;28;01mfrom\u001B[39;00m \u001B[38;5;21;01mpandas\u001B[39;00m \u001B[38;5;28;01mimport\u001B[39;00m Series\n\u001B[0;32m-> 1963\u001B[0m     value \u001B[38;5;241m=\u001B[39m \u001B[38;5;28;43mself\u001B[39;49m\u001B[38;5;241;43m.\u001B[39;49m\u001B[43m_align_series\u001B[49m\u001B[43m(\u001B[49m\u001B[43mindexer\u001B[49m\u001B[43m,\u001B[49m\u001B[43m \u001B[49m\u001B[43mSeries\u001B[49m\u001B[43m(\u001B[49m\u001B[43mvalue\u001B[49m\u001B[43m)\u001B[49m\u001B[43m)\u001B[49m\n\u001B[1;32m   1965\u001B[0m \u001B[38;5;66;03m# Ensure we have something we can iterate over\u001B[39;00m\n\u001B[1;32m   1966\u001B[0m info_axis \u001B[38;5;241m=\u001B[39m indexer[\u001B[38;5;241m1\u001B[39m]\n",
      "File \u001B[0;32m~/Documents/GitHub/personal_medicine/.venv/lib/python3.12/site-packages/pandas/core/indexing.py:2455\u001B[0m, in \u001B[0;36m_iLocIndexer._align_series\u001B[0;34m(self, indexer, ser, multiindex_indexer, using_cow)\u001B[0m\n\u001B[1;32m   2451\u001B[0m         \u001B[38;5;28;01mreturn\u001B[39;00m ser\u001B[38;5;241m.\u001B[39m_values\u001B[38;5;241m.\u001B[39mcopy()\n\u001B[1;32m   2453\u001B[0m     \u001B[38;5;28;01mreturn\u001B[39;00m ser\u001B[38;5;241m.\u001B[39mreindex(ax)\u001B[38;5;241m.\u001B[39m_values\n\u001B[0;32m-> 2455\u001B[0m \u001B[38;5;28;01mraise\u001B[39;00m \u001B[38;5;167;01mValueError\u001B[39;00m(\u001B[38;5;124m\"\u001B[39m\u001B[38;5;124mIncompatible indexer with Series\u001B[39m\u001B[38;5;124m\"\u001B[39m)\n",
      "\u001B[0;31mValueError\u001B[0m: Incompatible indexer with Series"
     ]
    }
   ],
   "execution_count": 18
  },
  {
   "metadata": {
    "ExecuteTime": {
     "end_time": "2024-09-03T11:06:47.055145Z",
     "start_time": "2024-09-03T11:06:46.982471Z"
    }
   },
   "cell_type": "code",
   "source": [
    "# Initialize a dataframe to store the p-values\n",
    "p_values = pd.DataFrame(index=df_eryt_no_symbol_filtered_common.columns, columns=df_un_gen_only_BXD_filtered_common.columns)\n",
    "\n",
    "# Iterate over the index of the dataframes\n",
    "for idx in df_eryt_no_symbol_filtered_common.index:\n",
    "    # Get the rows\n",
    "    row1 = df_eryt_no_symbol_filtered_common.loc[idx]\n",
    "    row2 = df_un_gen_only_BXD_filtered_common.loc[idx]\n",
    "\n",
    "    # Perform linear regression on each pair of values and store the p-values\n",
    "    slope, intercept, r_value, p_value, std_err = stats.linregress(row1, row2)\n",
    "\n",
    "    # Store the p-value in the dataframe\n",
    "    p_values.loc[row1.name, row2.name] = p_value\n",
    "\n",
    "# Add information to the column names\n",
    "p_values.columns = [f'{col}_SNP' for col in p_values.columns]\n",
    "p_values.index = [f'{idx}_expression' for idx in p_values.index]\n",
    "\n",
    "print(p_values)"
   ],
   "id": "512a049ceab7ffdf",
   "outputs": [
    {
     "ename": "AttributeError",
     "evalue": "'float' object has no attribute 'shape'",
     "output_type": "error",
     "traceback": [
      "\u001B[0;31m---------------------------------------------------------------------------\u001B[0m",
      "\u001B[0;31mAttributeError\u001B[0m                            Traceback (most recent call last)",
      "Cell \u001B[0;32mIn[22], line 11\u001B[0m\n\u001B[1;32m      8\u001B[0m row2 \u001B[38;5;241m=\u001B[39m df_un_gen_only_BXD_filtered_common\u001B[38;5;241m.\u001B[39mloc[idx]\n\u001B[1;32m     10\u001B[0m \u001B[38;5;66;03m# Perform linear regression on each pair of values and store the p-values\u001B[39;00m\n\u001B[0;32m---> 11\u001B[0m slope, intercept, r_value, p_value, std_err \u001B[38;5;241m=\u001B[39m \u001B[43mstats\u001B[49m\u001B[38;5;241;43m.\u001B[39;49m\u001B[43mlinregress\u001B[49m\u001B[43m(\u001B[49m\u001B[43mrow1\u001B[49m\u001B[43m,\u001B[49m\u001B[43m \u001B[49m\u001B[43mrow2\u001B[49m\u001B[43m)\u001B[49m\n\u001B[1;32m     13\u001B[0m \u001B[38;5;66;03m# Store the p-value in the dataframe\u001B[39;00m\n\u001B[1;32m     14\u001B[0m p_values\u001B[38;5;241m.\u001B[39mloc[row1\u001B[38;5;241m.\u001B[39mname, row2\u001B[38;5;241m.\u001B[39mname] \u001B[38;5;241m=\u001B[39m p_value\n",
      "File \u001B[0;32m~/Documents/GitHub/personal_medicine/.venv/lib/python3.12/site-packages/scipy/stats/_stats_py.py:10902\u001B[0m, in \u001B[0;36mlinregress\u001B[0;34m(x, y, alternative)\u001B[0m\n\u001B[1;32m  10897\u001B[0m ymean \u001B[38;5;241m=\u001B[39m np\u001B[38;5;241m.\u001B[39mmean(y, \u001B[38;5;28;01mNone\u001B[39;00m)\n\u001B[1;32m  10899\u001B[0m \u001B[38;5;66;03m# Average sums of square differences from the mean\u001B[39;00m\n\u001B[1;32m  10900\u001B[0m \u001B[38;5;66;03m#   ssxm = mean( (x-mean(x))^2 )\u001B[39;00m\n\u001B[1;32m  10901\u001B[0m \u001B[38;5;66;03m#   ssxym = mean( (x-mean(x)) * (y-mean(y)) )\u001B[39;00m\n\u001B[0;32m> 10902\u001B[0m ssxm, ssxym, _, ssym \u001B[38;5;241m=\u001B[39m \u001B[43mnp\u001B[49m\u001B[38;5;241;43m.\u001B[39;49m\u001B[43mcov\u001B[49m\u001B[43m(\u001B[49m\u001B[43mx\u001B[49m\u001B[43m,\u001B[49m\u001B[43m \u001B[49m\u001B[43my\u001B[49m\u001B[43m,\u001B[49m\u001B[43m \u001B[49m\u001B[43mbias\u001B[49m\u001B[38;5;241;43m=\u001B[39;49m\u001B[38;5;241;43m1\u001B[39;49m\u001B[43m)\u001B[49m\u001B[38;5;241m.\u001B[39mflat\n\u001B[1;32m  10904\u001B[0m \u001B[38;5;66;03m# R-value\u001B[39;00m\n\u001B[1;32m  10905\u001B[0m \u001B[38;5;66;03m#   r = ssxym / sqrt( ssxm * ssym )\u001B[39;00m\n\u001B[1;32m  10906\u001B[0m \u001B[38;5;28;01mif\u001B[39;00m ssxm \u001B[38;5;241m==\u001B[39m \u001B[38;5;241m0.0\u001B[39m \u001B[38;5;129;01mor\u001B[39;00m ssym \u001B[38;5;241m==\u001B[39m \u001B[38;5;241m0.0\u001B[39m:\n\u001B[1;32m  10907\u001B[0m     \u001B[38;5;66;03m# If the denominator was going to be 0\u001B[39;00m\n",
      "File \u001B[0;32m~/Documents/GitHub/personal_medicine/.venv/lib/python3.12/site-packages/numpy/lib/_function_base_impl.py:2749\u001B[0m, in \u001B[0;36mcov\u001B[0;34m(m, y, rowvar, bias, ddof, fweights, aweights, dtype)\u001B[0m\n\u001B[1;32m   2746\u001B[0m     \u001B[38;5;28;01melse\u001B[39;00m:\n\u001B[1;32m   2747\u001B[0m         w \u001B[38;5;241m*\u001B[39m\u001B[38;5;241m=\u001B[39m aweights\n\u001B[0;32m-> 2749\u001B[0m avg, w_sum \u001B[38;5;241m=\u001B[39m \u001B[43maverage\u001B[49m\u001B[43m(\u001B[49m\u001B[43mX\u001B[49m\u001B[43m,\u001B[49m\u001B[43m \u001B[49m\u001B[43maxis\u001B[49m\u001B[38;5;241;43m=\u001B[39;49m\u001B[38;5;241;43m1\u001B[39;49m\u001B[43m,\u001B[49m\u001B[43m \u001B[49m\u001B[43mweights\u001B[49m\u001B[38;5;241;43m=\u001B[39;49m\u001B[43mw\u001B[49m\u001B[43m,\u001B[49m\u001B[43m \u001B[49m\u001B[43mreturned\u001B[49m\u001B[38;5;241;43m=\u001B[39;49m\u001B[38;5;28;43;01mTrue\u001B[39;49;00m\u001B[43m)\u001B[49m\n\u001B[1;32m   2750\u001B[0m w_sum \u001B[38;5;241m=\u001B[39m w_sum[\u001B[38;5;241m0\u001B[39m]\n\u001B[1;32m   2752\u001B[0m \u001B[38;5;66;03m# Determine the normalization\u001B[39;00m\n",
      "File \u001B[0;32m~/Documents/GitHub/personal_medicine/.venv/lib/python3.12/site-packages/numpy/lib/_function_base_impl.py:577\u001B[0m, in \u001B[0;36maverage\u001B[0;34m(a, axis, weights, returned, keepdims)\u001B[0m\n\u001B[1;32m    573\u001B[0m     avg \u001B[38;5;241m=\u001B[39m avg_as_array \u001B[38;5;241m=\u001B[39m np\u001B[38;5;241m.\u001B[39mmultiply(a, wgt,\n\u001B[1;32m    574\u001B[0m                       dtype\u001B[38;5;241m=\u001B[39mresult_dtype)\u001B[38;5;241m.\u001B[39msum(axis, \u001B[38;5;241m*\u001B[39m\u001B[38;5;241m*\u001B[39mkeepdims_kw) \u001B[38;5;241m/\u001B[39m scl\n\u001B[1;32m    576\u001B[0m \u001B[38;5;28;01mif\u001B[39;00m returned:\n\u001B[0;32m--> 577\u001B[0m     \u001B[38;5;28;01mif\u001B[39;00m \u001B[43mscl\u001B[49m\u001B[38;5;241;43m.\u001B[39;49m\u001B[43mshape\u001B[49m \u001B[38;5;241m!=\u001B[39m avg_as_array\u001B[38;5;241m.\u001B[39mshape:\n\u001B[1;32m    578\u001B[0m         scl \u001B[38;5;241m=\u001B[39m np\u001B[38;5;241m.\u001B[39mbroadcast_to(scl, avg_as_array\u001B[38;5;241m.\u001B[39mshape)\u001B[38;5;241m.\u001B[39mcopy()\n\u001B[1;32m    579\u001B[0m     \u001B[38;5;28;01mreturn\u001B[39;00m avg, scl\n",
      "\u001B[0;31mAttributeError\u001B[0m: 'float' object has no attribute 'shape'"
     ]
    }
   ],
   "execution_count": 22
  }
 ],
 "metadata": {
  "kernelspec": {
   "display_name": "Python 3",
   "language": "python",
   "name": "python3"
  },
  "language_info": {
   "codemirror_mode": {
    "name": "ipython",
    "version": 2
   },
   "file_extension": ".py",
   "mimetype": "text/x-python",
   "name": "python",
   "nbconvert_exporter": "python",
   "pygments_lexer": "ipython2",
   "version": "2.7.6"
  }
 },
 "nbformat": 4,
 "nbformat_minor": 5
}
