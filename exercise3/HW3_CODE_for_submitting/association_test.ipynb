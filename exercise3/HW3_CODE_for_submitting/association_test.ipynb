{
 "cells": [
  {
   "metadata": {},
   "cell_type": "markdown",
   "source": [
    "# Exercise 3 - part A: eQTL analysis | **association test**\n",
    "### Chosen datasets: ```Blood stem cell (GSE18067)```, ```Erythroid (GSE18067)```\n",
    "### Chosen phenotype: `Infectious disease, immune function: H5N1 influenza A virus mortality rate 30 days after infection (Boon-Webby Trait 1) [% death]`\n",
    "\n",
    "#### Written by: Shani Soustiel, id 316315720 and Shir Tova Segev, id 207353822"
   ],
   "id": "f7346370b29f10e3"
  },
  {
   "metadata": {},
   "cell_type": "markdown",
   "source": "Importing the necessary libraries\n",
   "id": "3fb0e177b06ecdf2"
  },
  {
   "metadata": {
    "ExecuteTime": {
     "end_time": "2024-09-25T14:50:23.623283Z",
     "start_time": "2024-09-25T14:50:23.500039Z"
    }
   },
   "cell_type": "code",
   "source": [
    "import time\n",
    "\n",
    "import pandas as pd\n",
    "import numpy as np\n",
    "from scipy.stats import stats\n",
    "import seaborn as sns\n",
    "import matplotlib.pyplot as plt\n",
    "import pickle\n",
    "from joblib import Parallel, delayed\n",
    "\n",
    "CELL_TYPE = \"Erythroid\"  # Erythroid, Stem"
   ],
   "id": "1ad98533ffa74078",
   "outputs": [],
   "execution_count": 1
  },
  {
   "metadata": {},
   "cell_type": "markdown",
   "source": "load data",
   "id": "63479616901b7d06"
  },
  {
   "metadata": {
    "ExecuteTime": {
     "end_time": "2024-09-25T14:50:25.961068Z",
     "start_time": "2024-09-25T14:50:25.949700Z"
    }
   },
   "cell_type": "code",
   "source": [
    "with open(f\"./data/preprocessed_{CELL_TYPE}.pkl\", \"rb\") as f:\n",
    "    cell_mat = pickle.load(f)   # gene expression\n",
    "    cell_snps = pickle.load(f)  # snps\n",
    "    pd_meta = pickle.load(f)    # gene metadata"
   ],
   "id": "abefff2d210a3037",
   "outputs": [],
   "execution_count": 2
  },
  {
   "metadata": {},
   "cell_type": "markdown",
   "source": "chromosome lengths",
   "id": "5bcf33ee78380cf4"
  },
  {
   "metadata": {
    "ExecuteTime": {
     "end_time": "2024-09-25T14:50:29.818418Z",
     "start_time": "2024-09-25T14:50:29.813713Z"
    }
   },
   "cell_type": "code",
   "source": [
    "chrom_size = [197195432, 181748087, 159599783, 155630120, 152537259,\n",
    "              149517037, 152524553, 131738871, 124076172, 129993255,\n",
    "              121843856, 121257530, 120284312, 125194864, 103494974,\n",
    "              98319150, 95272651, 90772031, 61342430, 166650296]\n",
    "\n",
    "chrom_start = np.cumsum([0] + chrom_size[:-1])\n",
    "chrom_end = np.cumsum(chrom_size)"
   ],
   "id": "43877c81f4dde007",
   "outputs": [],
   "execution_count": 3
  },
  {
   "metadata": {},
   "cell_type": "markdown",
   "source": "convert to coordinate",
   "id": "4a7d0a1bbf52c9cb"
  },
  {
   "metadata": {
    "ExecuteTime": {
     "end_time": "2024-09-25T14:50:37.617028Z",
     "start_time": "2024-09-25T14:50:36.926346Z"
    }
   },
   "cell_type": "code",
   "source": [
    "def find_loc(stem_mat, pd_meta, stem_snps):\n",
    "    # gene to coordinate\n",
    "    genes_loc = []\n",
    "    for gene in stem_mat.index:\n",
    "        if gene not in pd_meta.index:\n",
    "            continue\n",
    "        loc = chrom_start[int(pd_meta.loc[gene][\"chrom\"])-1] + pd_meta.loc[gene][\"start\"]\n",
    "        genes_loc.append(loc)\n",
    "\n",
    "    # snp to coordinate\n",
    "    snps_loc = []\n",
    "    for snp in stem_snps.index:\n",
    "        loc = chrom_start[int(stem_snps.loc[snp][\"Chr_Build37\"])-1] + stem_snps.loc[snp][\"Build37_position\"]\n",
    "        snps_loc.append(loc)\n",
    "\n",
    "    return np.array(genes_loc), np.array(snps_loc)\n",
    "\n",
    "genes_loc, snps_loc = find_loc(cell_mat, pd_meta, cell_snps)"
   ],
   "id": "67babd5428dcad16",
   "outputs": [],
   "execution_count": 4
  },
  {
   "metadata": {},
   "cell_type": "markdown",
   "source": "association test",
   "id": "f83c3b433a75241c"
  },
  {
   "metadata": {},
   "cell_type": "code",
   "outputs": [],
   "execution_count": null,
   "source": [
    "X = cell_snps[cell_snps.columns[2:]].map(lambda x: 1 if x == \"B\" else 0 if x == \"D\" else None).values\n",
    "Y = cell_mat.values\n",
    "\n",
    "# Function to compute p-values for a given index\n",
    "def compute_p_values(i, Y, X):\n",
    "    p_values_row = np.zeros(len(X))\n",
    "    for j in range(len(X)):\n",
    "        p_values_row[j] = stats.linregress(Y[i], X[j])[3]  # 3rd value is the p-value\n",
    "    if i % 10 == 0:\n",
    "        print(f\"{i} / {len(Y)} done\")\n",
    "    return p_values_row\n",
    "\n",
    "# Initialize p-values array\n",
    "p_values = np.zeros((len(Y), len(X)))\n",
    "\n",
    "# Measure time\n",
    "tm = time.time()\n",
    "\n",
    "# Parallel processing\n",
    "p_values = Parallel(n_jobs=-1)(delayed(compute_p_values)(i, Y, X) for i in range(len(Y)))\n",
    "\n",
    "# Convert list of arrays to a single array\n",
    "p_values = np.array(p_values)\n",
    "\n",
    "# Print time taken\n",
    "print(f\"Completed in {time.time() - tm} seconds\")"
   ],
   "id": "b4a5d57e4162ae13"
  },
  {
   "metadata": {},
   "cell_type": "markdown",
   "source": "sort data",
   "id": "6ef3746ef725d127"
  },
  {
   "metadata": {
    "ExecuteTime": {
     "end_time": "2024-09-25T19:43:44.121454Z",
     "start_time": "2024-09-25T19:43:44.103414Z"
    }
   },
   "cell_type": "code",
   "source": [
    "# convert p_values to DataFrame with cell_mat.index as index and cell_snps.index as columns\n",
    "data_res = pd.DataFrame(p_values, index=cell_mat.index, columns=cell_snps.index)\n",
    "\n",
    "# sort data_res by snps_loc and genes_loc\n",
    "data_res = data_res[data_res.columns[np.argsort(snps_loc)]]\n",
    "data_res = data_res.iloc[np.argsort(genes_loc)]\n",
    "\n",
    "# sort genes_loc and snps_loc\n",
    "genes_loc = np.sort(genes_loc)\n",
    "snps_loc = np.sort(snps_loc)\n",
    "\n",
    "sns.heatmap(-np.log10(data_res), xticklabels=False, yticklabels=False)\n",
    "plt.show()"
   ],
   "id": "613885d0b613b48a",
   "outputs": [
    {
     "ename": "NameError",
     "evalue": "name 'data_res' is not defined",
     "output_type": "error",
     "traceback": [
      "\u001B[0;31m---------------------------------------------------------------------------\u001B[0m",
      "\u001B[0;31mNameError\u001B[0m                                 Traceback (most recent call last)",
      "Cell \u001B[0;32mIn[6], line 12\u001B[0m\n\u001B[1;32m      1\u001B[0m \u001B[38;5;66;03m# convert p_values to DataFrame with cell_mat.index as index and cell_snps.index as columns\u001B[39;00m\n\u001B[1;32m      2\u001B[0m \u001B[38;5;66;03m# data_res = pd.DataFrame(p_values, index=cell_mat.index, columns=cell_snps.index)\u001B[39;00m\n\u001B[1;32m      3\u001B[0m \u001B[38;5;66;03m# \u001B[39;00m\n\u001B[0;32m   (...)\u001B[0m\n\u001B[1;32m      9\u001B[0m \u001B[38;5;66;03m# genes_loc = np.sort(genes_loc)\u001B[39;00m\n\u001B[1;32m     10\u001B[0m \u001B[38;5;66;03m# snps_loc = np.sort(snps_loc)\u001B[39;00m\n\u001B[0;32m---> 12\u001B[0m sns\u001B[38;5;241m.\u001B[39mheatmap(\u001B[38;5;241m-\u001B[39mnp\u001B[38;5;241m.\u001B[39mlog10(\u001B[43mdata_res\u001B[49m), xticklabels\u001B[38;5;241m=\u001B[39m\u001B[38;5;28;01mFalse\u001B[39;00m, yticklabels\u001B[38;5;241m=\u001B[39m\u001B[38;5;28;01mFalse\u001B[39;00m)\n\u001B[1;32m     13\u001B[0m plt\u001B[38;5;241m.\u001B[39mshow()\n",
      "\u001B[0;31mNameError\u001B[0m: name 'data_res' is not defined"
     ]
    }
   ],
   "execution_count": 6
  },
  {
   "metadata": {},
   "cell_type": "markdown",
   "source": "save data",
   "id": "a89e55cd543b5682"
  },
  {
   "metadata": {},
   "cell_type": "code",
   "outputs": [],
   "execution_count": null,
   "source": [
    "with open(f\"./data/association_{CELL_TYPE}.pkl\", \"wb\") as f:\n",
    "    pickle.dump(data_res, f)\n",
    "    pickle.dump(genes_loc, f)\n",
    "    pickle.dump(snps_loc, f)"
   ],
   "id": "99edf7b0e578469c"
  }
 ],
 "metadata": {
  "kernelspec": {
   "display_name": "Python 3",
   "language": "python",
   "name": "python3"
  },
  "language_info": {
   "codemirror_mode": {
    "name": "ipython",
    "version": 2
   },
   "file_extension": ".py",
   "mimetype": "text/x-python",
   "name": "python",
   "nbconvert_exporter": "python",
   "pygments_lexer": "ipython2",
   "version": "2.7.6"
  }
 },
 "nbformat": 4,
 "nbformat_minor": 5
}
