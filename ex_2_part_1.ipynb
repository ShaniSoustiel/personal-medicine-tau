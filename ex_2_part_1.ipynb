{
 "cells": [
  {
   "metadata": {},
   "cell_type": "markdown",
   "source": [
    "# Exercise 2 - Part 1\n",
    "## Implementing 3 models for the association between a single SNP and a quantitative trait\n",
    "### - Chosen phenotype: ```Infectious disease, immune function: H5N1 influenza A virus mortality rate 30 days after infection (Boon-Webby Trait 1) [% death]```\n",
    "### - Chosen SNP: ```rs13476293```\n",
    "\n",
    "\n",
    "####  Importing libraries"
   ],
   "id": "4ab3c2e6a4f8663d"
  },
  {
   "metadata": {
    "ExecuteTime": {
     "end_time": "2024-07-22T14:20:39.898667Z",
     "start_time": "2024-07-22T14:20:39.189594Z"
    }
   },
   "cell_type": "code",
   "source": [
    "import pandas as pd\n",
    "import seaborn as sns\n",
    "from statsmodels.formula.api import ols\n",
    "import statsmodels.api as sm\n",
    "import numpy as np\n",
    "import matplotlib.pyplot as plt\n",
    "import scipy.stats as stats"
   ],
   "id": "80786875c3067814",
   "outputs": [],
   "execution_count": 1
  },
  {
   "metadata": {},
   "cell_type": "markdown",
   "source": "#### Defining input and output paths",
   "id": "8273211514c1183b"
  },
  {
   "metadata": {
    "ExecuteTime": {
     "end_time": "2024-07-22T14:20:42.418357Z",
     "start_time": "2024-07-22T14:20:42.415123Z"
    }
   },
   "cell_type": "code",
   "source": [
    "input_path = ('/Users/shanishalev/Library/CloudStorage'\n",
    "              '/OneDrive-Personal/Documents - one drive/Biology TAU'\n",
    "              '/Year no 03/semester B/personal_medicine_course/hw_2/data/')\n",
    "output_path = ('/Users/shanishalev/Library/CloudStorage/OneDrive-Personal/'\n",
    "               'Documents - one drive/Biology TAU/Year no 03/semester B/'\n",
    "               'personal_medicine_course/hw_2/outputs/')"
   ],
   "id": "bc4552cdb33123f9",
   "outputs": [],
   "execution_count": 2
  },
  {
   "metadata": {},
   "cell_type": "markdown",
   "source": [
    "#### Reading the data\n",
    "##### Genotypes"
   ],
   "id": "4a8e7708f416f7be"
  },
  {
   "metadata": {
    "ExecuteTime": {
     "end_time": "2024-07-22T14:21:02.442455Z",
     "start_time": "2024-07-22T14:20:58.921077Z"
    }
   },
   "cell_type": "code",
   "source": [
    "gen = pd.read_excel(input_path+'genotypes_1.xlsx')\n",
    "gen.head()"
   ],
   "id": "9dad220a2713cf75",
   "outputs": [
    {
     "data": {
      "text/plain": [
       "       Locus  Chr_Build37  Build37_position BXD1 BXD2 BXD5 BXD6 BXD8 BXD9  \\\n",
       "0  rs6269442            1           3482276    B    B    D    D    D    B   \n",
       "1  rs6365999            1           4811063    B    B    D    D    D    B   \n",
       "2  rs6376963            1           5008090    B    B    D    D    D    B   \n",
       "3  rs3677817            1           5176059    B    B    D    D    D    B   \n",
       "4  rs8236463            1           5579194    B    B    D    D    D    B   \n",
       "\n",
       "  BXD11  ... BXD96 BXD97 BXD98 BXD99 BXD100 BXD101 BXD102 BXD103  \\\n",
       "0     B  ...     B     B     B     B      B      U      U      U   \n",
       "1     B  ...     B     B     B     B      B      U      U      U   \n",
       "2     B  ...     B     B     B     B      B      U      U      U   \n",
       "3     B  ...     B     B     B     B      B      U      U      U   \n",
       "4     D  ...     B     B     B     B      B      U      U      U   \n",
       "\n",
       "  check hetrozygoty number of hetero  \n",
       "0        Contains H                6  \n",
       "1        Contains H                6  \n",
       "2        Contains H                6  \n",
       "3        Contains H                5  \n",
       "4        Contains H                5  \n",
       "\n",
       "[5 rows x 97 columns]"
      ],
      "text/html": [
       "<div>\n",
       "<style scoped>\n",
       "    .dataframe tbody tr th:only-of-type {\n",
       "        vertical-align: middle;\n",
       "    }\n",
       "\n",
       "    .dataframe tbody tr th {\n",
       "        vertical-align: top;\n",
       "    }\n",
       "\n",
       "    .dataframe thead th {\n",
       "        text-align: right;\n",
       "    }\n",
       "</style>\n",
       "<table border=\"1\" class=\"dataframe\">\n",
       "  <thead>\n",
       "    <tr style=\"text-align: right;\">\n",
       "      <th></th>\n",
       "      <th>Locus</th>\n",
       "      <th>Chr_Build37</th>\n",
       "      <th>Build37_position</th>\n",
       "      <th>BXD1</th>\n",
       "      <th>BXD2</th>\n",
       "      <th>BXD5</th>\n",
       "      <th>BXD6</th>\n",
       "      <th>BXD8</th>\n",
       "      <th>BXD9</th>\n",
       "      <th>BXD11</th>\n",
       "      <th>...</th>\n",
       "      <th>BXD96</th>\n",
       "      <th>BXD97</th>\n",
       "      <th>BXD98</th>\n",
       "      <th>BXD99</th>\n",
       "      <th>BXD100</th>\n",
       "      <th>BXD101</th>\n",
       "      <th>BXD102</th>\n",
       "      <th>BXD103</th>\n",
       "      <th>check hetrozygoty</th>\n",
       "      <th>number of hetero</th>\n",
       "    </tr>\n",
       "  </thead>\n",
       "  <tbody>\n",
       "    <tr>\n",
       "      <th>0</th>\n",
       "      <td>rs6269442</td>\n",
       "      <td>1</td>\n",
       "      <td>3482276</td>\n",
       "      <td>B</td>\n",
       "      <td>B</td>\n",
       "      <td>D</td>\n",
       "      <td>D</td>\n",
       "      <td>D</td>\n",
       "      <td>B</td>\n",
       "      <td>B</td>\n",
       "      <td>...</td>\n",
       "      <td>B</td>\n",
       "      <td>B</td>\n",
       "      <td>B</td>\n",
       "      <td>B</td>\n",
       "      <td>B</td>\n",
       "      <td>U</td>\n",
       "      <td>U</td>\n",
       "      <td>U</td>\n",
       "      <td>Contains H</td>\n",
       "      <td>6</td>\n",
       "    </tr>\n",
       "    <tr>\n",
       "      <th>1</th>\n",
       "      <td>rs6365999</td>\n",
       "      <td>1</td>\n",
       "      <td>4811063</td>\n",
       "      <td>B</td>\n",
       "      <td>B</td>\n",
       "      <td>D</td>\n",
       "      <td>D</td>\n",
       "      <td>D</td>\n",
       "      <td>B</td>\n",
       "      <td>B</td>\n",
       "      <td>...</td>\n",
       "      <td>B</td>\n",
       "      <td>B</td>\n",
       "      <td>B</td>\n",
       "      <td>B</td>\n",
       "      <td>B</td>\n",
       "      <td>U</td>\n",
       "      <td>U</td>\n",
       "      <td>U</td>\n",
       "      <td>Contains H</td>\n",
       "      <td>6</td>\n",
       "    </tr>\n",
       "    <tr>\n",
       "      <th>2</th>\n",
       "      <td>rs6376963</td>\n",
       "      <td>1</td>\n",
       "      <td>5008090</td>\n",
       "      <td>B</td>\n",
       "      <td>B</td>\n",
       "      <td>D</td>\n",
       "      <td>D</td>\n",
       "      <td>D</td>\n",
       "      <td>B</td>\n",
       "      <td>B</td>\n",
       "      <td>...</td>\n",
       "      <td>B</td>\n",
       "      <td>B</td>\n",
       "      <td>B</td>\n",
       "      <td>B</td>\n",
       "      <td>B</td>\n",
       "      <td>U</td>\n",
       "      <td>U</td>\n",
       "      <td>U</td>\n",
       "      <td>Contains H</td>\n",
       "      <td>6</td>\n",
       "    </tr>\n",
       "    <tr>\n",
       "      <th>3</th>\n",
       "      <td>rs3677817</td>\n",
       "      <td>1</td>\n",
       "      <td>5176059</td>\n",
       "      <td>B</td>\n",
       "      <td>B</td>\n",
       "      <td>D</td>\n",
       "      <td>D</td>\n",
       "      <td>D</td>\n",
       "      <td>B</td>\n",
       "      <td>B</td>\n",
       "      <td>...</td>\n",
       "      <td>B</td>\n",
       "      <td>B</td>\n",
       "      <td>B</td>\n",
       "      <td>B</td>\n",
       "      <td>B</td>\n",
       "      <td>U</td>\n",
       "      <td>U</td>\n",
       "      <td>U</td>\n",
       "      <td>Contains H</td>\n",
       "      <td>5</td>\n",
       "    </tr>\n",
       "    <tr>\n",
       "      <th>4</th>\n",
       "      <td>rs8236463</td>\n",
       "      <td>1</td>\n",
       "      <td>5579194</td>\n",
       "      <td>B</td>\n",
       "      <td>B</td>\n",
       "      <td>D</td>\n",
       "      <td>D</td>\n",
       "      <td>D</td>\n",
       "      <td>B</td>\n",
       "      <td>D</td>\n",
       "      <td>...</td>\n",
       "      <td>B</td>\n",
       "      <td>B</td>\n",
       "      <td>B</td>\n",
       "      <td>B</td>\n",
       "      <td>B</td>\n",
       "      <td>U</td>\n",
       "      <td>U</td>\n",
       "      <td>U</td>\n",
       "      <td>Contains H</td>\n",
       "      <td>5</td>\n",
       "    </tr>\n",
       "  </tbody>\n",
       "</table>\n",
       "<p>5 rows × 97 columns</p>\n",
       "</div>"
      ]
     },
     "execution_count": 3,
     "metadata": {},
     "output_type": "execute_result"
    }
   ],
   "execution_count": 3
  },
  {
   "metadata": {},
   "cell_type": "markdown",
   "source": "##### Phenotypes",
   "id": "84dfe7907fec619e"
  },
  {
   "metadata": {
    "ExecuteTime": {
     "end_time": "2024-07-22T14:21:22.461151Z",
     "start_time": "2024-07-22T14:21:20.322489Z"
    }
   },
   "cell_type": "code",
   "source": [
    "phen = pd.read_excel(input_path+'phenotypes_1.xlsx')\n",
    "phen.head()"
   ],
   "id": "2bf7305854924da5",
   "outputs": [
    {
     "data": {
      "text/plain": [
       "   index                                          Phenotype  \\\n",
       "0      0                             Cerebellum weight [mg]   \n",
       "1      1  Central nervous system, morphology: Cerebellum...   \n",
       "2      2  Central nervous system, morphology: Brain weig...   \n",
       "3      3  Central nervous system, morphology: Cerebellum...   \n",
       "4      4  Central nervous system, morphology: Cerebellum...   \n",
       "\n",
       "                       Authors    Year   Pubmed Id  C57BL/6J  DBA/2J   BXD1  \\\n",
       "0  Airey DC, Lu L, Williams RW  2001.0  11438585.0       NaN     NaN   61.4   \n",
       "1  Airey DC, Lu L, Williams RW  2001.0  11438585.0       NaN     NaN   54.1   \n",
       "2  Airey DC, Lu L, Williams RW  2001.0  11438585.0       NaN     NaN  483.0   \n",
       "3  Airey DC, Lu L, Williams RW  2001.0  11438585.0       NaN     NaN   49.8   \n",
       "4  Airey DC, Lu L, Williams RW  2001.0  11438585.0       NaN     NaN   46.0   \n",
       "\n",
       "    BXD2   BXD5  ...  BXD95  BXD96  BXD97  BXD98  BXD99  BXD100  BXD101  \\\n",
       "0   49.0   62.5  ...    NaN    NaN    NaN    NaN    NaN     NaN     NaN   \n",
       "1   50.1   53.3  ...    NaN    NaN    NaN    NaN    NaN     NaN     NaN   \n",
       "2  403.0  501.0  ...    NaN    NaN    NaN    NaN    NaN     NaN     NaN   \n",
       "3   45.5   62.9  ...    NaN    NaN    NaN    NaN    NaN     NaN     NaN   \n",
       "4   44.9   52.5  ...    NaN    NaN    NaN    NaN    NaN     NaN     NaN   \n",
       "\n",
       "   BXD102  BXD103  count strains with values  \n",
       "0     NaN     NaN                         34  \n",
       "1     NaN     NaN                         34  \n",
       "2     NaN     NaN                         34  \n",
       "3     NaN     NaN                         31  \n",
       "4     NaN     NaN                         31  \n",
       "\n",
       "[5 rows x 100 columns]"
      ],
      "text/html": [
       "<div>\n",
       "<style scoped>\n",
       "    .dataframe tbody tr th:only-of-type {\n",
       "        vertical-align: middle;\n",
       "    }\n",
       "\n",
       "    .dataframe tbody tr th {\n",
       "        vertical-align: top;\n",
       "    }\n",
       "\n",
       "    .dataframe thead th {\n",
       "        text-align: right;\n",
       "    }\n",
       "</style>\n",
       "<table border=\"1\" class=\"dataframe\">\n",
       "  <thead>\n",
       "    <tr style=\"text-align: right;\">\n",
       "      <th></th>\n",
       "      <th>index</th>\n",
       "      <th>Phenotype</th>\n",
       "      <th>Authors</th>\n",
       "      <th>Year</th>\n",
       "      <th>Pubmed Id</th>\n",
       "      <th>C57BL/6J</th>\n",
       "      <th>DBA/2J</th>\n",
       "      <th>BXD1</th>\n",
       "      <th>BXD2</th>\n",
       "      <th>BXD5</th>\n",
       "      <th>...</th>\n",
       "      <th>BXD95</th>\n",
       "      <th>BXD96</th>\n",
       "      <th>BXD97</th>\n",
       "      <th>BXD98</th>\n",
       "      <th>BXD99</th>\n",
       "      <th>BXD100</th>\n",
       "      <th>BXD101</th>\n",
       "      <th>BXD102</th>\n",
       "      <th>BXD103</th>\n",
       "      <th>count strains with values</th>\n",
       "    </tr>\n",
       "  </thead>\n",
       "  <tbody>\n",
       "    <tr>\n",
       "      <th>0</th>\n",
       "      <td>0</td>\n",
       "      <td>Cerebellum weight [mg]</td>\n",
       "      <td>Airey DC, Lu L, Williams RW</td>\n",
       "      <td>2001.0</td>\n",
       "      <td>11438585.0</td>\n",
       "      <td>NaN</td>\n",
       "      <td>NaN</td>\n",
       "      <td>61.4</td>\n",
       "      <td>49.0</td>\n",
       "      <td>62.5</td>\n",
       "      <td>...</td>\n",
       "      <td>NaN</td>\n",
       "      <td>NaN</td>\n",
       "      <td>NaN</td>\n",
       "      <td>NaN</td>\n",
       "      <td>NaN</td>\n",
       "      <td>NaN</td>\n",
       "      <td>NaN</td>\n",
       "      <td>NaN</td>\n",
       "      <td>NaN</td>\n",
       "      <td>34</td>\n",
       "    </tr>\n",
       "    <tr>\n",
       "      <th>1</th>\n",
       "      <td>1</td>\n",
       "      <td>Central nervous system, morphology: Cerebellum...</td>\n",
       "      <td>Airey DC, Lu L, Williams RW</td>\n",
       "      <td>2001.0</td>\n",
       "      <td>11438585.0</td>\n",
       "      <td>NaN</td>\n",
       "      <td>NaN</td>\n",
       "      <td>54.1</td>\n",
       "      <td>50.1</td>\n",
       "      <td>53.3</td>\n",
       "      <td>...</td>\n",
       "      <td>NaN</td>\n",
       "      <td>NaN</td>\n",
       "      <td>NaN</td>\n",
       "      <td>NaN</td>\n",
       "      <td>NaN</td>\n",
       "      <td>NaN</td>\n",
       "      <td>NaN</td>\n",
       "      <td>NaN</td>\n",
       "      <td>NaN</td>\n",
       "      <td>34</td>\n",
       "    </tr>\n",
       "    <tr>\n",
       "      <th>2</th>\n",
       "      <td>2</td>\n",
       "      <td>Central nervous system, morphology: Brain weig...</td>\n",
       "      <td>Airey DC, Lu L, Williams RW</td>\n",
       "      <td>2001.0</td>\n",
       "      <td>11438585.0</td>\n",
       "      <td>NaN</td>\n",
       "      <td>NaN</td>\n",
       "      <td>483.0</td>\n",
       "      <td>403.0</td>\n",
       "      <td>501.0</td>\n",
       "      <td>...</td>\n",
       "      <td>NaN</td>\n",
       "      <td>NaN</td>\n",
       "      <td>NaN</td>\n",
       "      <td>NaN</td>\n",
       "      <td>NaN</td>\n",
       "      <td>NaN</td>\n",
       "      <td>NaN</td>\n",
       "      <td>NaN</td>\n",
       "      <td>NaN</td>\n",
       "      <td>34</td>\n",
       "    </tr>\n",
       "    <tr>\n",
       "      <th>3</th>\n",
       "      <td>3</td>\n",
       "      <td>Central nervous system, morphology: Cerebellum...</td>\n",
       "      <td>Airey DC, Lu L, Williams RW</td>\n",
       "      <td>2001.0</td>\n",
       "      <td>11438585.0</td>\n",
       "      <td>NaN</td>\n",
       "      <td>NaN</td>\n",
       "      <td>49.8</td>\n",
       "      <td>45.5</td>\n",
       "      <td>62.9</td>\n",
       "      <td>...</td>\n",
       "      <td>NaN</td>\n",
       "      <td>NaN</td>\n",
       "      <td>NaN</td>\n",
       "      <td>NaN</td>\n",
       "      <td>NaN</td>\n",
       "      <td>NaN</td>\n",
       "      <td>NaN</td>\n",
       "      <td>NaN</td>\n",
       "      <td>NaN</td>\n",
       "      <td>31</td>\n",
       "    </tr>\n",
       "    <tr>\n",
       "      <th>4</th>\n",
       "      <td>4</td>\n",
       "      <td>Central nervous system, morphology: Cerebellum...</td>\n",
       "      <td>Airey DC, Lu L, Williams RW</td>\n",
       "      <td>2001.0</td>\n",
       "      <td>11438585.0</td>\n",
       "      <td>NaN</td>\n",
       "      <td>NaN</td>\n",
       "      <td>46.0</td>\n",
       "      <td>44.9</td>\n",
       "      <td>52.5</td>\n",
       "      <td>...</td>\n",
       "      <td>NaN</td>\n",
       "      <td>NaN</td>\n",
       "      <td>NaN</td>\n",
       "      <td>NaN</td>\n",
       "      <td>NaN</td>\n",
       "      <td>NaN</td>\n",
       "      <td>NaN</td>\n",
       "      <td>NaN</td>\n",
       "      <td>NaN</td>\n",
       "      <td>31</td>\n",
       "    </tr>\n",
       "  </tbody>\n",
       "</table>\n",
       "<p>5 rows × 100 columns</p>\n",
       "</div>"
      ]
     },
     "execution_count": 4,
     "metadata": {},
     "output_type": "execute_result"
    }
   ],
   "execution_count": 4
  },
  {
   "metadata": {},
   "cell_type": "markdown",
   "source": "#### Defining the chosen phenotype and SNP",
   "id": "213e63b252c48501"
  },
  {
   "metadata": {
    "ExecuteTime": {
     "end_time": "2024-07-22T14:21:35.556494Z",
     "start_time": "2024-07-22T14:21:35.551158Z"
    }
   },
   "cell_type": "code",
   "source": [
    "phen_name = phen.iloc[787, 1] # Infectious disease, immune function: H5N1 influenza A virus mortality rate 30 days after infection (Boon-Webby Trait 1) [% death]\n",
    "SNP = gen.iloc[314, 0] # rs13476293\n",
    "print(f'The chosen phonotype is: {phen_name}, \\nThe chosen SNP is: {SNP}')"
   ],
   "id": "9c4667f8b15c3112",
   "outputs": [
    {
     "name": "stdout",
     "output_type": "stream",
     "text": [
      "The chosen phonotype is: Infectious disease, immune function: H5N1 influenza A virus mortality rate 30 days after infection (Boon-Webby Trait 1) [% death], \n",
      "The chosen SNP is: rs13476293\n"
     ]
    }
   ],
   "execution_count": 5
  },
  {
   "metadata": {},
   "cell_type": "markdown",
   "source": [
    "## Q1: simple linear regression model - without heterozygous\n",
    "#### formalize the model assumptions\n",
    "#### and calculate P-value scores for the chosen SNP: ```rs13476293```\n",
    "__________\n",
    "#### Editing the data\n",
    "##### Genotypes\n",
    "\n",
    "###### filter the dataframe"
   ],
   "id": "f3b119752dad414e"
  },
  {
   "metadata": {
    "ExecuteTime": {
     "end_time": "2024-07-22T14:59:48.881866Z",
     "start_time": "2024-07-22T14:59:48.873571Z"
    }
   },
   "cell_type": "code",
   "source": [
    "# Define the row label you want to filter\n",
    "gen_row = ['rs13476293']\n",
    "\n",
    "# Filter the DataFrame by gen_row\n",
    "filtered_gen = gen.loc[gen['Locus'].isin(gen_row)]\n",
    "\n",
    "# Filter columns based on their names - only strains\n",
    "filtered_gen = filtered_gen.filter(like='BXD')\n",
    "\n",
    "filtered_gen.head()"
   ],
   "id": "a13344b5430d8185",
   "outputs": [],
   "execution_count": 18
  },
  {
   "metadata": {},
   "cell_type": "markdown",
   "source": [
    "##### Phenotypes\n",
    "filter the dataframe"
   ],
   "id": "8916c4e72f96dac3"
  },
  {
   "metadata": {
    "ExecuteTime": {
     "end_time": "2024-07-22T14:59:52.321781Z",
     "start_time": "2024-07-22T14:59:52.316067Z"
    }
   },
   "cell_type": "code",
   "source": [
    "# Define the row label you want to filter - filter by index 787\n",
    "phen_row = 787\n",
    "\n",
    "# Use .loc to filter the DataFrame by row\n",
    "filtered_phen = phen.loc[phen.index == phen_row]\n",
    "\n",
    "# Filter columns based on their names\n",
    "filtered_phen = filtered_phen.filter(like='BXD')\n",
    "\n",
    "filtered_phen.head()"
   ],
   "id": "55009ebba54de0c",
   "outputs": [],
   "execution_count": 19
  },
  {
   "metadata": {},
   "cell_type": "markdown",
   "source": [
    "##### Edit dataframes\n",
    "1. Removing the heterozygous ('H') and Unknown ('U') genotypes from both dataframes"
   ],
   "id": "2b8e7dcab5e5e4c8"
  },
  {
   "metadata": {
    "ExecuteTime": {
     "end_time": "2024-07-22T15:02:05.390573Z",
     "start_time": "2024-07-22T15:02:05.383768Z"
    }
   },
   "cell_type": "code",
   "source": [
    "# Identify columns in filtered_gen that contain values other than 'B' or 'D'\n",
    "columns_with_other_values = filtered_gen.columns[~filtered_gen.isin(['B', 'D']).all()]\n",
    "\n",
    "# Drop these columns from filtered_gen\n",
    "filtered_gen = filtered_gen.drop(columns_with_other_values, axis=1)\n",
    "\n",
    "# Drop these columns from filtered_phen\n",
    "filtered_phen = filtered_phen.drop(columns_with_other_values, axis=1)\n",
    "\n",
    "filtered_gen.head(), filtered_phen.head()"
   ],
   "id": "b581b5355b4afc7",
   "outputs": [],
   "execution_count": 21
  },
  {
   "metadata": {},
   "cell_type": "markdown",
   "source": "2. Removing NaN values from the dataframes",
   "id": "956594e3b8b8b8e7"
  },
  {
   "metadata": {
    "ExecuteTime": {
     "end_time": "2024-07-22T15:02:29.744957Z",
     "start_time": "2024-07-22T15:02:29.738754Z"
    }
   },
   "cell_type": "code",
   "source": [
    "# Identify columns in filtered_phen that contain NaN values\n",
    "columns_with_NaN = filtered_phen.columns[filtered_phen.isna().any()]\n",
    "\n",
    "# Drop these columns from filtered_gen\n",
    "filtered_gen = filtered_gen.drop(columns_with_NaN, axis=1)\n",
    "\n",
    "# Drop these columns from filtered_phen\n",
    "filtered_phen = filtered_phen.drop(columns_with_NaN, axis=1)\n",
    "\n",
    "filtered_gen.head(), filtered_phen.head()"
   ],
   "id": "83c634c477c74d75",
   "outputs": [],
   "execution_count": 22
  },
  {
   "metadata": {},
   "cell_type": "markdown",
   "source": "3. Converting the dataframes to numpy arrays",
   "id": "c35308197fe99a0"
  },
  {
   "metadata": {
    "ExecuteTime": {
     "end_time": "2024-07-22T15:02:55.440679Z",
     "start_time": "2024-07-22T15:02:55.422381Z"
    }
   },
   "cell_type": "code",
   "source": [
    "# Convert the filtered_gen DataFrame to a NumPy array\n",
    "gen_array = np.array(filtered_gen)\n",
    "# Convert the filtered_phen DataFrame to a NumPy array\n",
    "phen_array = np.array(filtered_phen)\n",
    "gen_array, phen_array"
   ],
   "id": "fc3202dc922c7ab1",
   "outputs": [],
   "execution_count": 23
  },
  {
   "metadata": {},
   "cell_type": "markdown",
   "source": "Converting 'B' to 0 and 'D' to 1",
   "id": "2d9eb7623184bc3d"
  },
  {
   "metadata": {
    "ExecuteTime": {
     "end_time": "2024-07-22T15:33:38.238400Z",
     "start_time": "2024-07-22T15:33:38.211320Z"
    }
   },
   "cell_type": "code",
   "source": [
    "# Replace 'B' with 0 and 'D' with 1 in gen_array\n",
    "gen_array[gen_array == 'B'] = 0\n",
    "gen_array[gen_array == 'D'] = 1\n",
    "gen_array"
   ],
   "id": "9b657d5ad3c757fa",
   "outputs": [
    {
     "data": {
      "text/plain": [
       "array([[0, 0, 1, 1, 1, 1, 0, 0, 1, 1, 1, 0, 0, 0, 0, 1, 1, 1, 1, 0, 1, 0,\n",
       "        1, 0, 0, 0, 1, 1, 0, 0, 0, 1, 0, 0, 0, 0, 0, 0, 0, 1, 0, 0, 0, 0,\n",
       "        1, 0, 0, 0, 0, 1, 0, 1, 0, 0, 1, 1, 1, 1, 0, 0, 0, 1, 1, 0]],\n",
       "      dtype=object)"
      ]
     },
     "execution_count": 26,
     "metadata": {},
     "output_type": "execute_result"
    }
   ],
   "execution_count": 26
  },
  {
   "metadata": {},
   "cell_type": "markdown",
   "source": "# Calculate regression parameters",
   "id": "ee6fb8eb716d2477"
  },
  {
   "metadata": {
    "ExecuteTime": {
     "end_time": "2024-07-22T15:39:30.026073Z",
     "start_time": "2024-07-22T15:39:30.017614Z"
    }
   },
   "cell_type": "code",
   "source": [
    "X = gen_array.astype(int).flatten() # gene vector - independent variable\n",
    "Y = phen_array.astype(float).flatten() # phenotype vector - dependent variable\n",
    "\n",
    "Xav = np.mean(X) # mean of X\n",
    "Yav = np.mean(Y) # mean of Y\n",
    "\n",
    "Sxx = np.sum(X**2) - len(X) * Xav**2 \n",
    "Sxy = np.dot(X, Y) - len(X) * Xav * Yav\n",
    "\n",
    "b1 = Sxy / Sxx # slope\n",
    "b0 = Yav - b1 * Xav # intercept\n",
    "Yhat = X * b1 + b0 # predicted values\n",
    "\n",
    "print(f'Xav: {Xav}, Yav: {Yav}, Sxx: {Sxx}, Sxy: {Sxy}, b1: {b1}, b0: {b0}, Yhat: X*{round(b1,3)}+{round(b0,3)}')"
   ],
   "id": "187e8a0f1170a413",
   "outputs": [
    {
     "name": "stdout",
     "output_type": "stream",
     "text": [
      "Xav: 0.40625, Yav: 64.3125, Sxx: 15.4375, Sxy: 131.2750000000001, b1: 8.503643724696362, b0: 60.857894736842105, Yhat: X*8.504+60.858\n"
     ]
    }
   ],
   "execution_count": 31
  },
  {
   "metadata": {},
   "cell_type": "markdown",
   "source": "# Calculate F-statistic",
   "id": "b384ab51fb06c0f6"
  },
  {
   "metadata": {
    "ExecuteTime": {
     "end_time": "2024-07-22T15:39:52.149106Z",
     "start_time": "2024-07-22T15:39:52.140920Z"
    }
   },
   "cell_type": "code",
   "source": [
    "n = len(X) # number of observations\n",
    "k = 2 # number of parameters: genotypes and phenotypes\n",
    "\n",
    "SST = np.sum((Y - Yav)**2) # total sum of squares\n",
    "SSE = np.sum((Y - Yhat)**2) # error sum of squares\n",
    "SSR = np.sum((Yhat - Yav)**2)  # regression sum of squares\n",
    "\n",
    "MST = SST / (n - 1) # mean square total\n",
    "MSE = SSE / (n - k) # mean square error\n",
    "MSR = SSR / (k - 1) # mean square regression\n",
    "F = MSR / MSE # F-statistic\n",
    "\n",
    "print(f'SST: {SST}, SSE: {SSE}, SSR: {SSR}, MST: {MST}, MSE: {MSE}, MSR: {MSR}, F: {F}')"
   ],
   "id": "59aa44ebfdc7aa88",
   "outputs": [
    {
     "name": "stdout",
     "output_type": "stream",
     "text": [
      "SST: 95599.79, SSE: 94483.47417004048, SSR: 1116.315829959517, MST: 1517.456984126984, MSE: 1523.9270027425885, MSR: 1116.315829959517, F: 0.7325257889324753\n"
     ]
    }
   ],
   "execution_count": 32
  },
  {
   "metadata": {},
   "cell_type": "markdown",
   "source": "# Calculate degrees of freedom",
   "id": "84906acaab226c70"
  },
  {
   "metadata": {
    "ExecuteTime": {
     "end_time": "2024-07-22T15:40:41.719453Z",
     "start_time": "2024-07-22T15:40:41.713916Z"
    }
   },
   "cell_type": "code",
   "source": [
    "df1 = k - 1\n",
    "df2 = n - k\n",
    "print(f'df1: {df1}, df2: {df2}')"
   ],
   "id": "590231507b7f145d",
   "outputs": [
    {
     "name": "stdout",
     "output_type": "stream",
     "text": [
      "df1: 1, df2: 62\n"
     ]
    }
   ],
   "execution_count": 33
  },
  {
   "metadata": {},
   "cell_type": "markdown",
   "source": "# Calculate p-value",
   "id": "25f62091bcfcae4e"
  },
  {
   "metadata": {
    "ExecuteTime": {
     "end_time": "2024-07-22T15:41:07.872049Z",
     "start_time": "2024-07-22T15:41:07.863030Z"
    }
   },
   "cell_type": "code",
   "source": [
    "alpha = 0.05\n",
    "p_value = 1 - stats.f.cdf(F, df1, df2)\n",
    "print(f'p-value without heterozygous: {p_value}') # p-value > alpha, therefore, cannot reject the null hypothesis"
   ],
   "id": "f47fb98b66866eb",
   "outputs": [
    {
     "name": "stdout",
     "output_type": "stream",
     "text": [
      "p-value: 0.3953613965340681\n"
     ]
    }
   ],
   "execution_count": 34
  },
  {
   "metadata": {
    "ExecuteTime": {
     "end_time": "2024-07-22T15:44:56.421983Z",
     "start_time": "2024-07-22T15:44:56.180105Z"
    }
   },
   "cell_type": "code",
   "source": [
    "# Plot regression line\n",
    "plt.figure(figsize=(8, 6))\n",
    "plt.scatter(X, Y, label='Data points', color='b')\n",
    "plt.plot(X, Yhat, label='Regression line', color='r')\n",
    "plt.xlabel('Genotype value [B=0, D=1]')\n",
    "plt.ylabel('Phenotype value [mortality rate, days after infection]') # Infectious disease, immune function: H5N1 influenza A virus mortality rate 30 days after infection (Boon-Webby Trait 1) [% death]\n",
    "plt.title('Linear Regression without Heterozygous')\n",
    "plt.grid(True)\n",
    "plt.legend(['Data points', f'Yhat: {round(b1,3)}*X+{round(b0,3)}', 'Regression line'])\n",
    "plt.show()"
   ],
   "id": "ccd44b0a20b7a34f",
   "outputs": [
    {
     "data": {
      "text/plain": [
       "<Figure size 800x600 with 1 Axes>"
      ],
      "image/png": "[encoded data removed]"
     },
     "metadata": {},
     "output_type": "display_data"
    }
   ],
   "execution_count": 36
  },
  {
   "metadata": {},
   "cell_type": "markdown",
   "source": [
    "## Q2: simple linear regression model - with heterozygous\n",
    "#### formalize the model assumptions\n",
    "#### and calculate P-value scores for the chosen SNP: ```rs13476293```\n",
    "__________\n",
    "#### Editing the data\n",
    "##### Genotypes"
   ],
   "id": "328fdf671471278c"
  },
  {
   "metadata": {
    "ExecuteTime": {
     "end_time": "2024-07-22T15:48:30.810847Z",
     "start_time": "2024-07-22T15:48:30.708996Z"
    }
   },
   "cell_type": "code",
   "source": [
    "# Filter the DataFrame by gen_row\n",
    "filtered_gen = gen.loc[gen['Locus'].isin(gen_row)]\n",
    "\n",
    "# Filter columns based on their names - only strains\n",
    "filtered_gen = filtered_gen.filter(like='BXD')\n",
    "\n",
    "filtered_gen.head()"
   ],
   "id": "16e1533add18009",
   "outputs": [
    {
     "data": {
      "text/plain": [
       "    BXD1 BXD2 BXD5 BXD6 BXD8 BXD9 BXD11 BXD12 BXD13 BXD14  ... BXD94 BXD95  \\\n",
       "314    B    B    D    D    D    D     B     B     D     D  ...     B     H   \n",
       "\n",
       "    BXD96 BXD97 BXD98 BXD99 BXD100 BXD101 BXD102 BXD103  \n",
       "314     B     B     D     D      B      U      U      U  \n",
       "\n",
       "[1 rows x 92 columns]"
      ],
      "text/html": [
       "<div>\n",
       "<style scoped>\n",
       "    .dataframe tbody tr th:only-of-type {\n",
       "        vertical-align: middle;\n",
       "    }\n",
       "\n",
       "    .dataframe tbody tr th {\n",
       "        vertical-align: top;\n",
       "    }\n",
       "\n",
       "    .dataframe thead th {\n",
       "        text-align: right;\n",
       "    }\n",
       "</style>\n",
       "<table border=\"1\" class=\"dataframe\">\n",
       "  <thead>\n",
       "    <tr style=\"text-align: right;\">\n",
       "      <th></th>\n",
       "      <th>BXD1</th>\n",
       "      <th>BXD2</th>\n",
       "      <th>BXD5</th>\n",
       "      <th>BXD6</th>\n",
       "      <th>BXD8</th>\n",
       "      <th>BXD9</th>\n",
       "      <th>BXD11</th>\n",
       "      <th>BXD12</th>\n",
       "      <th>BXD13</th>\n",
       "      <th>BXD14</th>\n",
       "      <th>...</th>\n",
       "      <th>BXD94</th>\n",
       "      <th>BXD95</th>\n",
       "      <th>BXD96</th>\n",
       "      <th>BXD97</th>\n",
       "      <th>BXD98</th>\n",
       "      <th>BXD99</th>\n",
       "      <th>BXD100</th>\n",
       "      <th>BXD101</th>\n",
       "      <th>BXD102</th>\n",
       "      <th>BXD103</th>\n",
       "    </tr>\n",
       "  </thead>\n",
       "  <tbody>\n",
       "    <tr>\n",
       "      <th>314</th>\n",
       "      <td>B</td>\n",
       "      <td>B</td>\n",
       "      <td>D</td>\n",
       "      <td>D</td>\n",
       "      <td>D</td>\n",
       "      <td>D</td>\n",
       "      <td>B</td>\n",
       "      <td>B</td>\n",
       "      <td>D</td>\n",
       "      <td>D</td>\n",
       "      <td>...</td>\n",
       "      <td>B</td>\n",
       "      <td>H</td>\n",
       "      <td>B</td>\n",
       "      <td>B</td>\n",
       "      <td>D</td>\n",
       "      <td>D</td>\n",
       "      <td>B</td>\n",
       "      <td>U</td>\n",
       "      <td>U</td>\n",
       "      <td>U</td>\n",
       "    </tr>\n",
       "  </tbody>\n",
       "</table>\n",
       "<p>1 rows × 92 columns</p>\n",
       "</div>"
      ]
     },
     "execution_count": 37,
     "metadata": {},
     "output_type": "execute_result"
    }
   ],
   "execution_count": 37
  },
  {
   "metadata": {},
   "cell_type": "markdown",
   "source": "##### Phenotypes",
   "id": "d2e8d28c7079e89"
  },
  {
   "metadata": {
    "ExecuteTime": {
     "end_time": "2024-07-22T15:49:01.273420Z",
     "start_time": "2024-07-22T15:49:01.250650Z"
    }
   },
   "cell_type": "code",
   "source": [
    "# Use .loc to filter the DataFrame by row\n",
    "filtered_phen = phen.loc[phen.index == phen_row]\n",
    "\n",
    "# Filter columns based on their names\n",
    "filtered_phen = filtered_phen.filter(like='BXD')\n",
    "\n",
    "filtered_phen.head()"
   ],
   "id": "e6bbfbf21b39b3ec",
   "outputs": [
    {
     "data": {
      "text/plain": [
       "     BXD1  BXD2   BXD5  BXD6  BXD8   BXD9  BXD11  BXD12  BXD13  BXD14  ...  \\\n",
       "787  66.7   0.0  100.0  50.0   0.0  100.0    0.0   28.6  100.0  100.0  ...   \n",
       "\n",
       "     BXD94  BXD95  BXD96  BXD97  BXD98  BXD99  BXD100  BXD101  BXD102  BXD103  \n",
       "787    NaN    NaN    0.0  100.0   12.5  100.0    11.1     NaN     NaN     NaN  \n",
       "\n",
       "[1 rows x 92 columns]"
      ],
      "text/html": [
       "<div>\n",
       "<style scoped>\n",
       "    .dataframe tbody tr th:only-of-type {\n",
       "        vertical-align: middle;\n",
       "    }\n",
       "\n",
       "    .dataframe tbody tr th {\n",
       "        vertical-align: top;\n",
       "    }\n",
       "\n",
       "    .dataframe thead th {\n",
       "        text-align: right;\n",
       "    }\n",
       "</style>\n",
       "<table border=\"1\" class=\"dataframe\">\n",
       "  <thead>\n",
       "    <tr style=\"text-align: right;\">\n",
       "      <th></th>\n",
       "      <th>BXD1</th>\n",
       "      <th>BXD2</th>\n",
       "      <th>BXD5</th>\n",
       "      <th>BXD6</th>\n",
       "      <th>BXD8</th>\n",
       "      <th>BXD9</th>\n",
       "      <th>BXD11</th>\n",
       "      <th>BXD12</th>\n",
       "      <th>BXD13</th>\n",
       "      <th>BXD14</th>\n",
       "      <th>...</th>\n",
       "      <th>BXD94</th>\n",
       "      <th>BXD95</th>\n",
       "      <th>BXD96</th>\n",
       "      <th>BXD97</th>\n",
       "      <th>BXD98</th>\n",
       "      <th>BXD99</th>\n",
       "      <th>BXD100</th>\n",
       "      <th>BXD101</th>\n",
       "      <th>BXD102</th>\n",
       "      <th>BXD103</th>\n",
       "    </tr>\n",
       "  </thead>\n",
       "  <tbody>\n",
       "    <tr>\n",
       "      <th>787</th>\n",
       "      <td>66.7</td>\n",
       "      <td>0.0</td>\n",
       "      <td>100.0</td>\n",
       "      <td>50.0</td>\n",
       "      <td>0.0</td>\n",
       "      <td>100.0</td>\n",
       "      <td>0.0</td>\n",
       "      <td>28.6</td>\n",
       "      <td>100.0</td>\n",
       "      <td>100.0</td>\n",
       "      <td>...</td>\n",
       "      <td>NaN</td>\n",
       "      <td>NaN</td>\n",
       "      <td>0.0</td>\n",
       "      <td>100.0</td>\n",
       "      <td>12.5</td>\n",
       "      <td>100.0</td>\n",
       "      <td>11.1</td>\n",
       "      <td>NaN</td>\n",
       "      <td>NaN</td>\n",
       "      <td>NaN</td>\n",
       "    </tr>\n",
       "  </tbody>\n",
       "</table>\n",
       "<p>1 rows × 92 columns</p>\n",
       "</div>"
      ]
     },
     "execution_count": 38,
     "metadata": {},
     "output_type": "execute_result"
    }
   ],
   "execution_count": 38
  },
  {
   "metadata": {},
   "cell_type": "markdown",
   "source": [
    "#### Edit dataframes\n",
    "1. Removing Unknown ('U') values from the dataframes"
   ],
   "id": "7707e482f041cc4e"
  },
  {
   "metadata": {
    "ExecuteTime": {
     "end_time": "2024-07-22T15:51:02.571611Z",
     "start_time": "2024-07-22T15:51:02.546204Z"
    }
   },
   "cell_type": "code",
   "source": [
    "# Identify columns in filtered_gen that contain values 'U'\n",
    "columns_with_U = filtered_gen.columns[filtered_gen.isin(['U']).any()]\n",
    "\n",
    "# Drop these columns from filtered_gen\n",
    "filtered_gen = filtered_gen.drop(columns_with_U, axis=1)\n",
    "\n",
    "# Drop these columns from filtered_phen\n",
    "filtered_phen = filtered_phen.drop(columns_with_U, axis=1)\n",
    "\n",
    "filtered_gen.head(), filtered_phen.head()"
   ],
   "id": "f7d4908410843668",
   "outputs": [
    {
     "data": {
      "text/plain": [
       "(    BXD1 BXD2 BXD5 BXD6 BXD8 BXD9 BXD11 BXD12 BXD13 BXD14  ... BXD91 BXD92  \\\n",
       " 314    B    B    D    D    D    D     B     B     D     D  ...     B     B   \n",
       " \n",
       "     BXD93 BXD94 BXD95 BXD96 BXD97 BXD98 BXD99 BXD100  \n",
       " 314     B     B     H     B     B     D     D      B  \n",
       " \n",
       " [1 rows x 89 columns],\n",
       "      BXD1  BXD2   BXD5  BXD6  BXD8   BXD9  BXD11  BXD12  BXD13  BXD14  ...  \\\n",
       " 787  66.7   0.0  100.0  50.0   0.0  100.0    0.0   28.6  100.0  100.0  ...   \n",
       " \n",
       "      BXD91  BXD92  BXD93  BXD94  BXD95  BXD96  BXD97  BXD98  BXD99  BXD100  \n",
       " 787    NaN  100.0    NaN    NaN    NaN    0.0  100.0   12.5  100.0    11.1  \n",
       " \n",
       " [1 rows x 89 columns])"
      ]
     },
     "execution_count": 39,
     "metadata": {},
     "output_type": "execute_result"
    }
   ],
   "execution_count": 39
  },
  {
   "metadata": {},
   "cell_type": "markdown",
   "source": "2. Removing NaN values from the dataframes",
   "id": "8bde8943f47c59d7"
  },
  {
   "metadata": {
    "ExecuteTime": {
     "end_time": "2024-07-22T15:52:00.216042Z",
     "start_time": "2024-07-22T15:52:00.194910Z"
    }
   },
   "cell_type": "code",
   "source": [
    "# Identify columns in filtered_phen that contain NaN values\n",
    "columns_with_NaN = filtered_phen.columns[filtered_phen.isna().any()]\n",
    "\n",
    "# Drop these columns from filtered_gen\n",
    "filtered_gen = filtered_gen.drop(columns_with_NaN, axis=1)\n",
    "\n",
    "# Drop these columns from filtered_phen\n",
    "filtered_phen = filtered_phen.drop(columns_with_NaN, axis=1)\n",
    "\n",
    "filtered_gen.head(), filtered_phen.head()"
   ],
   "id": "159e11a827d6ae94",
   "outputs": [
    {
     "data": {
      "text/plain": [
       "(    BXD1 BXD2 BXD5 BXD6 BXD8 BXD9 BXD11 BXD12 BXD13 BXD14  ... BXD86 BXD87  \\\n",
       " 314    B    B    D    D    D    D     B     B     D     D  ...     D     D   \n",
       " \n",
       "     BXD89 BXD90 BXD92 BXD96 BXD97 BXD98 BXD99 BXD100  \n",
       " 314     D     D     B     B     B     D     D      B  \n",
       " \n",
       " [1 rows x 66 columns],\n",
       "      BXD1  BXD2   BXD5  BXD6  BXD8   BXD9  BXD11  BXD12  BXD13  BXD14  ...  \\\n",
       " 787  66.7   0.0  100.0  50.0   0.0  100.0    0.0   28.6  100.0  100.0  ...   \n",
       " \n",
       "      BXD86  BXD87  BXD89  BXD90  BXD92  BXD96  BXD97  BXD98  BXD99  BXD100  \n",
       " 787   85.7   66.7   85.7   80.0  100.0    0.0  100.0   12.5  100.0    11.1  \n",
       " \n",
       " [1 rows x 66 columns])"
      ]
     },
     "execution_count": 40,
     "metadata": {},
     "output_type": "execute_result"
    }
   ],
   "execution_count": 40
  },
  {
   "metadata": {},
   "cell_type": "markdown",
   "source": "3. Converting the dataframes to numpy arrays",
   "id": "c1323ad5d86ede11"
  },
  {
   "metadata": {
    "ExecuteTime": {
     "end_time": "2024-07-22T15:55:59.413090Z",
     "start_time": "2024-07-22T15:55:59.394334Z"
    }
   },
   "cell_type": "code",
   "source": [
    "# Convert the filtered_gen DataFrame to a NumPy array\n",
    "gen_array = np.array(filtered_gen)\n",
    "# Convert the filtered_phen DataFrame to a NumPy array\n",
    "phen_array = np.array(filtered_phen)\n",
    "gen_array, phen_array"
   ],
   "id": "846e253821ec9fba",
   "outputs": [
    {
     "data": {
      "text/plain": [
       "(array([['B', 'B', 'D', 'D', 'D', 'D', 'B', 'B', 'D', 'D', 'D', 'B', 'B',\n",
       "         'B', 'B', 'D', 'D', 'D', 'D', 'B', 'D', 'B', 'D', 'B', 'B', 'B',\n",
       "         'D', 'D', 'B', 'B', 'B', 'D', 'B', 'B', 'B', 'B', 'B', 'B', 'B',\n",
       "         'D', 'B', 'B', 'B', 'B', 'H', 'D', 'B', 'B', 'B', 'B', 'H', 'D',\n",
       "         'B', 'D', 'B', 'B', 'D', 'D', 'D', 'D', 'B', 'B', 'B', 'D', 'D',\n",
       "         'B']], dtype=object),\n",
       " array([[ 66.7,   0. , 100. ,  50. ,   0. , 100. ,   0. ,  28.6, 100. ,\n",
       "         100. ,  66.7,  33.3, 100. , 100. , 100. , 100. , 100. ,  66.7,\n",
       "          83.3, 100. ,   0. ,   0. , 100. , 100. , 100. , 100. ,  62.5,\n",
       "           0. ,  75. , 100. ,   0. ,  83.3,  50. ,  28.6, 100. ,  50. ,\n",
       "         100. , 100. ,  22.2,  71.4,  66.7,   0. , 100. ,  75. , 100. ,\n",
       "           0. ,  83.3,  57.1,   0. ,  90. ,  81.8,  88.9,  75. , 100. ,\n",
       "         100. ,   0. ,  85.7,  66.7,  85.7,  80. , 100. ,   0. , 100. ,\n",
       "          12.5, 100. ,  11.1]]))"
      ]
     },
     "execution_count": 41,
     "metadata": {},
     "output_type": "execute_result"
    }
   ],
   "execution_count": 41
  },
  {
   "metadata": {},
   "cell_type": "markdown",
   "source": "Converting 'B' to 0, 'H' to 1 and 'D' to 2",
   "id": "9cac232b7e6bcdf0"
  },
  {
   "metadata": {
    "ExecuteTime": {
     "end_time": "2024-07-22T15:58:04.363082Z",
     "start_time": "2024-07-22T15:58:04.350344Z"
    }
   },
   "cell_type": "code",
   "source": [
    "# Replace 'B' with 0, 'H' with 1 and 'D' with 2 in gen_array\n",
    "gen_array[gen_array == 'B'] = 0\n",
    "gen_array[gen_array == 'H'] = 1\n",
    "gen_array[gen_array == 'D'] = 2\n",
    "gen_array"
   ],
   "id": "c3aa791b554669f8",
   "outputs": [
    {
     "data": {
      "text/plain": [
       "array([[0, 0, 2, 2, 2, 2, 0, 0, 2, 2, 2, 0, 0, 0, 0, 2, 2, 2, 2, 0, 2, 0,\n",
       "        2, 0, 0, 0, 2, 2, 0, 0, 0, 2, 0, 0, 0, 0, 0, 0, 0, 2, 0, 0, 0, 0,\n",
       "        1, 2, 0, 0, 0, 0, 1, 2, 0, 2, 0, 0, 2, 2, 2, 2, 0, 0, 0, 2, 2, 0]],\n",
       "      dtype=object)"
      ]
     },
     "execution_count": 42,
     "metadata": {},
     "output_type": "execute_result"
    }
   ],
   "execution_count": 42
  },
  {
   "metadata": {},
   "cell_type": "markdown",
   "source": "# Calculate regression parameters",
   "id": "ba9fe6f049426419"
  },
  {
   "metadata": {
    "ExecuteTime": {
     "end_time": "2024-07-22T15:59:14.823952Z",
     "start_time": "2024-07-22T15:59:14.814632Z"
    }
   },
   "cell_type": "code",
   "source": [
    "X = gen_array.astype(int).flatten() # gene vector - independent variable\n",
    "Y = phen_array.astype(float).flatten() # phenotype vector - dependent variable\n",
    "\n",
    "Xav = np.mean(X) # mean of X\n",
    "Yav = np.mean(Y) # mean of Y\n",
    "\n",
    "Sxx = np.sum(X**2) - len(X) * Xav**2 # sum of squares of X\n",
    "Sxy = np.dot(X, Y) - len(X) * Xav * Yav # sum of X*Y, dot means element-wise multiplication\n",
    "\n",
    "b1 = Sxy / Sxx # slope\n",
    "b0 = Yav - b1 * Xav # intercept\n",
    "Yhat = X * b1 + b0 # predicted values\n",
    "\n",
    "print(f'Xav: {Xav}, Yav: {Yav}, Sxx: {Sxx}, Sxy: {Sxy}, b1: {b1}, b0: {b0}, Yhat: X*{round(b1,3)}+{round(b0,3)}')"
   ],
   "id": "baa281721c84591c",
   "outputs": [
    {
     "name": "stdout",
     "output_type": "stream",
     "text": [
      "Xav: 0.8181818181818182, Yav: 65.11818181818184, Sxx: 61.81818181818181, Sxy: 272.2181818181807, b1: 4.403529411764688, b0: 61.515294117647095, Yhat: X*4.404+61.515\n"
     ]
    }
   ],
   "execution_count": 43
  },
  {
   "metadata": {},
   "cell_type": "markdown",
   "source": "# Calculate F-statistic",
   "id": "a8dda3b112a8a865"
  },
  {
   "metadata": {
    "ExecuteTime": {
     "end_time": "2024-07-22T16:00:08.910421Z",
     "start_time": "2024-07-22T16:00:08.904970Z"
    }
   },
   "cell_type": "code",
   "source": [
    "n = len(X) # number of observations\n",
    "k = 2 # number of parameters: genotypes and phenotypes\n",
    "\n",
    "SST = np.sum((Y - Yav)**2) # total sum of squares\n",
    "SSE = np.sum((Y - Yhat)**2) # error sum of squares\n",
    "SSR = np.sum((Yhat - Yav)**2)  # regression sum of squares\n",
    "\n",
    "MST = SST / (n - 1) # mean square total\n",
    "MSE = SSE / (n - k) # mean square error\n",
    "MSR = SSR / (k - 1) # mean square regression\n",
    "F = MSR / MSE # F-statistic\n",
    "\n",
    "print(f'SST: {SST}, SSE: {SSE}, SSR: {SSR}, MST: {MST}, MSE: {MSE}, MSR: {MSR}, F: {F}')"
   ],
   "id": "523b63891ea53a11",
   "outputs": [
    {
     "name": "stdout",
     "output_type": "stream",
     "text": [
      "SST: 97136.35818181818, SSE: 95937.63741176469, SSR: 1198.7207700534675, MST: 1494.4055104895106, MSE: 1499.0255845588233, MSR: 1198.7207700534675, F: 0.7996666517244679\n"
     ]
    }
   ],
   "execution_count": 44
  },
  {
   "metadata": {},
   "cell_type": "markdown",
   "source": "# Calculate degrees of freedom",
   "id": "e592c6d70bcf014a"
  },
  {
   "metadata": {
    "ExecuteTime": {
     "end_time": "2024-07-22T16:00:29.458266Z",
     "start_time": "2024-07-22T16:00:29.445367Z"
    }
   },
   "cell_type": "code",
   "source": [
    "df1 = k - 1\n",
    "df2 = n - k\n",
    "print(f'df1: {df1}, df2: {df2}')"
   ],
   "id": "3a36dcee35c0a493",
   "outputs": [
    {
     "name": "stdout",
     "output_type": "stream",
     "text": [
      "df1: 1, df2: 64\n"
     ]
    }
   ],
   "execution_count": 45
  },
  {
   "metadata": {},
   "cell_type": "markdown",
   "source": "# Calculate p-value",
   "id": "97c55b4ea304a57f"
  },
  {
   "metadata": {
    "ExecuteTime": {
     "end_time": "2024-07-22T16:00:49.410391Z",
     "start_time": "2024-07-22T16:00:49.395032Z"
    }
   },
   "cell_type": "code",
   "source": [
    "alpha = 0.05\n",
    "p_value = 1 - stats.f.cdf(F, df1, df2)\n",
    "print(f'p-value with heterozygous: {p_value}') # p-value > alpha, therefore, cannot reject the null hypothesis"
   ],
   "id": "988104ab86f9a66b",
   "outputs": [
    {
     "name": "stdout",
     "output_type": "stream",
     "text": [
      "p-value: 0.37454371273161424\n"
     ]
    }
   ],
   "execution_count": 46
  },
  {
   "metadata": {},
   "cell_type": "markdown",
   "source": "# Plot regression line",
   "id": "d3a41d3ddcb72aed"
  },
  {
   "metadata": {
    "ExecuteTime": {
     "end_time": "2024-07-22T16:19:50.424662Z",
     "start_time": "2024-07-22T16:19:50.163469Z"
    }
   },
   "cell_type": "code",
   "source": [
    "plt.figure(figsize=(8, 6))\n",
    "plt.scatter(X, Y, label='Data points', color='b')\n",
    "plt.plot(X, Yhat, label='Regression line', color='r')\n",
    "plt.xlabel('Genotype value [B=0, H=1, D=2]')\n",
    "plt.ylabel('Phenotype value [mortality rate, days after infection]') # Infectious disease, immune function: H5N1 influenza A virus mortality rate 30 days after infection (Boon-Webby Trait 1) [% death]\n",
    "plt.title('Linear Regression with Heterozygous')\n",
    "plt.grid(True)\n",
    "plt.legend(['Data points', f'Yhat: {round(b1,3)}*X+{round(b0,3)}', 'Regression line'])\n",
    "plt.show()"
   ],
   "id": "aec253c62fd7d63d",
   "outputs": [
    {
     "data": {
      "text/plain": [
       "<Figure size 800x600 with 1 Axes>"
      ],
      "image/png": "[encoded data removed]"
     },
     "metadata": {},
     "output_type": "display_data"
    }
   ],
   "execution_count": 51
  },
  {
   "metadata": {},
   "cell_type": "markdown",
   "source": [
    "## Q3: ANOVA model - without heterozygous\n",
    "#### formalize the model assumptions\n",
    "#### and calculate P-value scores for the chosen SNP: ```rs13476293```\n",
    "__________\n",
    "#### Editing the data\n",
    "##### Genotypes"
   ],
   "id": "91a977687cc4a369"
  },
  {
   "metadata": {
    "ExecuteTime": {
     "end_time": "2024-07-22T17:01:33.735083Z",
     "start_time": "2024-07-22T17:01:33.712821Z"
    }
   },
   "cell_type": "code",
   "source": [
    "# Filter the DataFrame by gen_row\n",
    "filtered_gen = gen.loc[gen['Locus'].isin(gen_row)]\n",
    "\n",
    "# Filter columns based on their names - only strains\n",
    "filtered_gen = filtered_gen.filter(like='BXD')\n",
    "\n",
    "filtered_gen.head()"
   ],
   "id": "a0f76486ced1eca7",
   "outputs": [
    {
     "data": {
      "text/plain": [
       "    BXD1 BXD2 BXD5 BXD6 BXD8 BXD9 BXD11 BXD12 BXD13 BXD14  ... BXD94 BXD95  \\\n",
       "314    B    B    D    D    D    D     B     B     D     D  ...     B     H   \n",
       "\n",
       "    BXD96 BXD97 BXD98 BXD99 BXD100 BXD101 BXD102 BXD103  \n",
       "314     B     B     D     D      B      U      U      U  \n",
       "\n",
       "[1 rows x 92 columns]"
      ],
      "text/html": [
       "<div>\n",
       "<style scoped>\n",
       "    .dataframe tbody tr th:only-of-type {\n",
       "        vertical-align: middle;\n",
       "    }\n",
       "\n",
       "    .dataframe tbody tr th {\n",
       "        vertical-align: top;\n",
       "    }\n",
       "\n",
       "    .dataframe thead th {\n",
       "        text-align: right;\n",
       "    }\n",
       "</style>\n",
       "<table border=\"1\" class=\"dataframe\">\n",
       "  <thead>\n",
       "    <tr style=\"text-align: right;\">\n",
       "      <th></th>\n",
       "      <th>BXD1</th>\n",
       "      <th>BXD2</th>\n",
       "      <th>BXD5</th>\n",
       "      <th>BXD6</th>\n",
       "      <th>BXD8</th>\n",
       "      <th>BXD9</th>\n",
       "      <th>BXD11</th>\n",
       "      <th>BXD12</th>\n",
       "      <th>BXD13</th>\n",
       "      <th>BXD14</th>\n",
       "      <th>...</th>\n",
       "      <th>BXD94</th>\n",
       "      <th>BXD95</th>\n",
       "      <th>BXD96</th>\n",
       "      <th>BXD97</th>\n",
       "      <th>BXD98</th>\n",
       "      <th>BXD99</th>\n",
       "      <th>BXD100</th>\n",
       "      <th>BXD101</th>\n",
       "      <th>BXD102</th>\n",
       "      <th>BXD103</th>\n",
       "    </tr>\n",
       "  </thead>\n",
       "  <tbody>\n",
       "    <tr>\n",
       "      <th>314</th>\n",
       "      <td>B</td>\n",
       "      <td>B</td>\n",
       "      <td>D</td>\n",
       "      <td>D</td>\n",
       "      <td>D</td>\n",
       "      <td>D</td>\n",
       "      <td>B</td>\n",
       "      <td>B</td>\n",
       "      <td>D</td>\n",
       "      <td>D</td>\n",
       "      <td>...</td>\n",
       "      <td>B</td>\n",
       "      <td>H</td>\n",
       "      <td>B</td>\n",
       "      <td>B</td>\n",
       "      <td>D</td>\n",
       "      <td>D</td>\n",
       "      <td>B</td>\n",
       "      <td>U</td>\n",
       "      <td>U</td>\n",
       "      <td>U</td>\n",
       "    </tr>\n",
       "  </tbody>\n",
       "</table>\n",
       "<p>1 rows × 92 columns</p>\n",
       "</div>"
      ]
     },
     "execution_count": 79,
     "metadata": {},
     "output_type": "execute_result"
    }
   ],
   "execution_count": 79
  },
  {
   "metadata": {},
   "cell_type": "markdown",
   "source": "##### Phenotypes",
   "id": "9cd46b9b6864c94c"
  },
  {
   "metadata": {
    "ExecuteTime": {
     "end_time": "2024-07-22T17:01:39.028281Z",
     "start_time": "2024-07-22T17:01:39.008578Z"
    }
   },
   "cell_type": "code",
   "source": [
    "# Use .loc to filter the DataFrame by row\n",
    "filtered_phen = phen.loc[phen.index == phen_row]\n",
    "\n",
    "# Filter columns based on their names\n",
    "filtered_phen = filtered_phen.filter(like='BXD')\n",
    "\n",
    "filtered_phen.head()"
   ],
   "id": "69952d7177e4f52f",
   "outputs": [
    {
     "data": {
      "text/plain": [
       "     BXD1  BXD2   BXD5  BXD6  BXD8   BXD9  BXD11  BXD12  BXD13  BXD14  ...  \\\n",
       "787  66.7   0.0  100.0  50.0   0.0  100.0    0.0   28.6  100.0  100.0  ...   \n",
       "\n",
       "     BXD94  BXD95  BXD96  BXD97  BXD98  BXD99  BXD100  BXD101  BXD102  BXD103  \n",
       "787    NaN    NaN    0.0  100.0   12.5  100.0    11.1     NaN     NaN     NaN  \n",
       "\n",
       "[1 rows x 92 columns]"
      ],
      "text/html": [
       "<div>\n",
       "<style scoped>\n",
       "    .dataframe tbody tr th:only-of-type {\n",
       "        vertical-align: middle;\n",
       "    }\n",
       "\n",
       "    .dataframe tbody tr th {\n",
       "        vertical-align: top;\n",
       "    }\n",
       "\n",
       "    .dataframe thead th {\n",
       "        text-align: right;\n",
       "    }\n",
       "</style>\n",
       "<table border=\"1\" class=\"dataframe\">\n",
       "  <thead>\n",
       "    <tr style=\"text-align: right;\">\n",
       "      <th></th>\n",
       "      <th>BXD1</th>\n",
       "      <th>BXD2</th>\n",
       "      <th>BXD5</th>\n",
       "      <th>BXD6</th>\n",
       "      <th>BXD8</th>\n",
       "      <th>BXD9</th>\n",
       "      <th>BXD11</th>\n",
       "      <th>BXD12</th>\n",
       "      <th>BXD13</th>\n",
       "      <th>BXD14</th>\n",
       "      <th>...</th>\n",
       "      <th>BXD94</th>\n",
       "      <th>BXD95</th>\n",
       "      <th>BXD96</th>\n",
       "      <th>BXD97</th>\n",
       "      <th>BXD98</th>\n",
       "      <th>BXD99</th>\n",
       "      <th>BXD100</th>\n",
       "      <th>BXD101</th>\n",
       "      <th>BXD102</th>\n",
       "      <th>BXD103</th>\n",
       "    </tr>\n",
       "  </thead>\n",
       "  <tbody>\n",
       "    <tr>\n",
       "      <th>787</th>\n",
       "      <td>66.7</td>\n",
       "      <td>0.0</td>\n",
       "      <td>100.0</td>\n",
       "      <td>50.0</td>\n",
       "      <td>0.0</td>\n",
       "      <td>100.0</td>\n",
       "      <td>0.0</td>\n",
       "      <td>28.6</td>\n",
       "      <td>100.0</td>\n",
       "      <td>100.0</td>\n",
       "      <td>...</td>\n",
       "      <td>NaN</td>\n",
       "      <td>NaN</td>\n",
       "      <td>0.0</td>\n",
       "      <td>100.0</td>\n",
       "      <td>12.5</td>\n",
       "      <td>100.0</td>\n",
       "      <td>11.1</td>\n",
       "      <td>NaN</td>\n",
       "      <td>NaN</td>\n",
       "      <td>NaN</td>\n",
       "    </tr>\n",
       "  </tbody>\n",
       "</table>\n",
       "<p>1 rows × 92 columns</p>\n",
       "</div>"
      ]
     },
     "execution_count": 80,
     "metadata": {},
     "output_type": "execute_result"
    }
   ],
   "execution_count": 80
  },
  {
   "metadata": {},
   "cell_type": "markdown",
   "source": [
    "#### Edit dataframes\n",
    "1. Removing the heterozygous ('H') and Unknown ('U') genotypes from both dataframes"
   ],
   "id": "bcab72e89c275ccf"
  },
  {
   "metadata": {
    "ExecuteTime": {
     "end_time": "2024-07-22T17:01:44.017374Z",
     "start_time": "2024-07-22T17:01:43.994523Z"
    }
   },
   "cell_type": "code",
   "source": [
    "# Identify columns in filtered_gen that contain values other than 'B' or 'D'\n",
    "columns_with_other_values = filtered_gen.columns[~filtered_gen.isin(['B', 'D']).all()]\n",
    "\n",
    "# Drop these columns from filtered_gen\n",
    "filtered_gen = filtered_gen.drop(columns_with_other_values, axis=1)\n",
    "\n",
    "# Drop these columns from filtered_phen\n",
    "filtered_phen = filtered_phen.drop(columns_with_other_values, axis=1)\n",
    "\n",
    "filtered_gen.head(), filtered_phen.head()"
   ],
   "id": "c348ec70e294c224",
   "outputs": [
    {
     "data": {
      "text/plain": [
       "(    BXD1 BXD2 BXD5 BXD6 BXD8 BXD9 BXD11 BXD12 BXD13 BXD14  ... BXD90 BXD91  \\\n",
       " 314    B    B    D    D    D    D     B     B     D     D  ...     D     B   \n",
       " \n",
       "     BXD92 BXD93 BXD94 BXD96 BXD97 BXD98 BXD99 BXD100  \n",
       " 314     B     B     B     B     B     D     D      B  \n",
       " \n",
       " [1 rows x 82 columns],\n",
       "      BXD1  BXD2   BXD5  BXD6  BXD8   BXD9  BXD11  BXD12  BXD13  BXD14  ...  \\\n",
       " 787  66.7   0.0  100.0  50.0   0.0  100.0    0.0   28.6  100.0  100.0  ...   \n",
       " \n",
       "      BXD90  BXD91  BXD92  BXD93  BXD94  BXD96  BXD97  BXD98  BXD99  BXD100  \n",
       " 787   80.0    NaN  100.0    NaN    NaN    0.0  100.0   12.5  100.0    11.1  \n",
       " \n",
       " [1 rows x 82 columns])"
      ]
     },
     "execution_count": 81,
     "metadata": {},
     "output_type": "execute_result"
    }
   ],
   "execution_count": 81
  },
  {
   "metadata": {},
   "cell_type": "markdown",
   "source": "2. Removing NaN values from the dataframes",
   "id": "4eacca757ccc5d8b"
  },
  {
   "metadata": {
    "ExecuteTime": {
     "end_time": "2024-07-22T17:01:48.158303Z",
     "start_time": "2024-07-22T17:01:48.137717Z"
    }
   },
   "cell_type": "code",
   "source": [
    "# Identify columns in filtered_phen that contain NaN values\n",
    "columns_with_NaN = filtered_phen.columns[filtered_phen.isna().any()]\n",
    "\n",
    "# Drop these columns from filtered_gen\n",
    "filtered_gen = filtered_gen.drop(columns_with_NaN, axis=1)\n",
    "\n",
    "# Drop these columns from filtered_phen\n",
    "filtered_phen = filtered_phen.drop(columns_with_NaN, axis=1)\n",
    "\n",
    "filtered_gen.head(), filtered_phen.head()"
   ],
   "id": "c58d4212e6d3ae4a",
   "outputs": [
    {
     "data": {
      "text/plain": [
       "(    BXD1 BXD2 BXD5 BXD6 BXD8 BXD9 BXD11 BXD12 BXD13 BXD14  ... BXD86 BXD87  \\\n",
       " 314    B    B    D    D    D    D     B     B     D     D  ...     D     D   \n",
       " \n",
       "     BXD89 BXD90 BXD92 BXD96 BXD97 BXD98 BXD99 BXD100  \n",
       " 314     D     D     B     B     B     D     D      B  \n",
       " \n",
       " [1 rows x 64 columns],\n",
       "      BXD1  BXD2   BXD5  BXD6  BXD8   BXD9  BXD11  BXD12  BXD13  BXD14  ...  \\\n",
       " 787  66.7   0.0  100.0  50.0   0.0  100.0    0.0   28.6  100.0  100.0  ...   \n",
       " \n",
       "      BXD86  BXD87  BXD89  BXD90  BXD92  BXD96  BXD97  BXD98  BXD99  BXD100  \n",
       " 787   85.7   66.7   85.7   80.0  100.0    0.0  100.0   12.5  100.0    11.1  \n",
       " \n",
       " [1 rows x 64 columns])"
      ]
     },
     "execution_count": 82,
     "metadata": {},
     "output_type": "execute_result"
    }
   ],
   "execution_count": 82
  },
  {
   "metadata": {},
   "cell_type": "markdown",
   "source": "Organizing the data for genotype 'B'",
   "id": "1cb7a87e7a155043"
  },
  {
   "metadata": {
    "ExecuteTime": {
     "end_time": "2024-07-22T16:54:02.213061Z",
     "start_time": "2024-07-22T16:54:02.165335Z"
    }
   },
   "cell_type": "code",
   "source": [
    "# Identify columns in filtered_gen that contain values 'D'\n",
    "columns_with_D = filtered_gen.columns[filtered_gen.isin(['D']).any()]\n",
    "\n",
    "# Drop these columns from filtered_gen\n",
    "filtered_gen_b = filtered_gen.drop(columns_with_D, axis=1)\n",
    "\n",
    "# Drop these columns from filtered_phen\n",
    "filtered_phen_b = filtered_phen.drop(columns_with_D, axis=1)\n",
    "\n",
    "filtered_gen_b.head(), filtered_phen_b.head()"
   ],
   "id": "4583d60384c0f071",
   "outputs": [
    {
     "data": {
      "text/plain": [
       "(    BXD1 BXD2 BXD11 BXD12 BXD16 BXD18 BXD19 BXD20 BXD28 BXD31  ... BXD70  \\\n",
       " 314    B    B     B     B     B     B     B     B     B     B  ...     B   \n",
       " \n",
       "     BXD71 BXD73 BXD80 BXD84 BXD85 BXD92 BXD96 BXD97 BXD100  \n",
       " 314     B     B     B     B     B     B     B     B      B  \n",
       " \n",
       " [1 rows x 38 columns],\n",
       "      BXD1  BXD2  BXD11  BXD12  BXD16  BXD18  BXD19  BXD20  BXD28  BXD31  ...  \\\n",
       " 787  66.7   0.0    0.0   28.6   33.3  100.0  100.0  100.0  100.0    0.0  ...   \n",
       " \n",
       "      BXD70  BXD71  BXD73  BXD80  BXD84  BXD85  BXD92  BXD96  BXD97  BXD100  \n",
       " 787   57.1    0.0   90.0   75.0  100.0    0.0  100.0    0.0  100.0    11.1  \n",
       " \n",
       " [1 rows x 38 columns])"
      ]
     },
     "execution_count": 70,
     "metadata": {},
     "output_type": "execute_result"
    }
   ],
   "execution_count": 70
  },
  {
   "metadata": {},
   "cell_type": "markdown",
   "source": "3. Converting the dataframes to numpy arrays",
   "id": "b9250719905e04f"
  },
  {
   "metadata": {
    "ExecuteTime": {
     "end_time": "2024-07-22T16:59:25.894285Z",
     "start_time": "2024-07-22T16:59:25.884945Z"
    }
   },
   "cell_type": "code",
   "source": [
    "# Convert the filtered_gen DataFrame to a NumPy array\n",
    "Xb = np.array(filtered_gen_b)\n",
    "\n",
    "# Convert the filtered_phen DataFrame to a NumPy array\n",
    "Yb = np.array(filtered_phen_b)\n",
    "\n",
    "Xb, Yb"
   ],
   "id": "855af479ada3c30",
   "outputs": [
    {
     "data": {
      "text/plain": [
       "(array([['B', 'B', 'B', 'B', 'B', 'B', 'B', 'B', 'B', 'B', 'B', 'B', 'B',\n",
       "         'B', 'B', 'B', 'B', 'B', 'B', 'B', 'B', 'B', 'B', 'B', 'B', 'B',\n",
       "         'B', 'B', 'B', 'B', 'B', 'B', 'B', 'B', 'B', 'B', 'B', 'B']],\n",
       "       dtype=object),\n",
       " array([[ 66.7,   0. ,   0. ,  28.6,  33.3, 100. , 100. , 100. , 100. ,\n",
       "           0. , 100. , 100. , 100. ,  75. , 100. ,   0. ,  50. ,  28.6,\n",
       "         100. ,  50. , 100. , 100. ,  22.2,  66.7,   0. , 100. ,  75. ,\n",
       "          83.3,  57.1,   0. ,  90. ,  75. , 100. ,   0. , 100. ,   0. ,\n",
       "         100. ,  11.1]]))"
      ]
     },
     "execution_count": 76,
     "metadata": {},
     "output_type": "execute_result"
    }
   ],
   "execution_count": 76
  },
  {
   "metadata": {},
   "cell_type": "markdown",
   "source": "# Calc parameters for genotype 'B'",
   "id": "6ea148c314d96b4a"
  },
  {
   "metadata": {
    "ExecuteTime": {
     "end_time": "2024-07-22T16:59:36.464546Z",
     "start_time": "2024-07-22T16:59:36.459946Z"
    }
   },
   "cell_type": "code",
   "source": [
    "# flatten the data\n",
    "Yb = Yb.flatten()\n",
    "nb = len(Yb) # number of observations for genotype 'B'\n",
    "AVb = np.mean(Yb) # mean of phenotype for genotype 'B'\n",
    "print(f'Number of observations for genotype B: {nb}', f'Mean of phenotype for genotype B: {AVb}')"
   ],
   "id": "ee0acd25a6018a0e",
   "outputs": [
    {
     "name": "stdout",
     "output_type": "stream",
     "text": [
      "Number of observations for genotype B: 38 Mean of phenotype for genotype B: 60.857894736842105\n"
     ]
    }
   ],
   "execution_count": 77
  },
  {
   "metadata": {},
   "cell_type": "markdown",
   "source": "Organizing the data for genotype 'D'",
   "id": "307b1e8d55a6870f"
  },
  {
   "metadata": {
    "ExecuteTime": {
     "end_time": "2024-07-22T17:01:58.311623Z",
     "start_time": "2024-07-22T17:01:58.289376Z"
    }
   },
   "cell_type": "code",
   "source": [
    "# Identify columns in filtered_gen that contain values 'B'\n",
    "columns_with_B = filtered_gen.columns[filtered_gen.isin(['B']).any()]\n",
    "\n",
    "# Drop these columns from filtered_gen\n",
    "filtered_gen_d = filtered_gen.drop(columns_with_B, axis=1)\n",
    "\n",
    "# Drop these columns from filtered_phen\n",
    "filtered_phen_d = filtered_phen.drop(columns_with_B, axis=1)\n",
    "\n",
    "filtered_gen_d.head(), filtered_phen_d.head()"
   ],
   "id": "67701a364c1295ee",
   "outputs": [
    {
     "data": {
      "text/plain": [
       "(    BXD5 BXD6 BXD8 BXD9 BXD13 BXD14 BXD15 BXD21 BXD22 BXD23  ... BXD61 BXD68  \\\n",
       " 314    D    D    D    D     D     D     D     D     D     D  ...     D     D   \n",
       " \n",
       "     BXD77 BXD83 BXD86 BXD87 BXD89 BXD90 BXD98 BXD99  \n",
       " 314     D     D     D     D     D     D     D     D  \n",
       " \n",
       " [1 rows x 26 columns],\n",
       "       BXD5  BXD6  BXD8   BXD9  BXD13  BXD14  BXD15  BXD21  BXD22  BXD23  ...  \\\n",
       " 787  100.0  50.0   0.0  100.0  100.0  100.0   66.7  100.0  100.0   66.7  ...   \n",
       " \n",
       "      BXD61  BXD68  BXD77  BXD83  BXD86  BXD87  BXD89  BXD90  BXD98  BXD99  \n",
       " 787   71.4    0.0   88.9  100.0   85.7   66.7   85.7   80.0   12.5  100.0  \n",
       " \n",
       " [1 rows x 26 columns])"
      ]
     },
     "execution_count": 83,
     "metadata": {},
     "output_type": "execute_result"
    }
   ],
   "execution_count": 83
  },
  {
   "metadata": {},
   "cell_type": "markdown",
   "source": "3. Converting the dataframes to numpy arrays",
   "id": "32b290e8b58e91a1"
  },
  {
   "metadata": {
    "ExecuteTime": {
     "end_time": "2024-07-22T17:02:32.535178Z",
     "start_time": "2024-07-22T17:02:32.525152Z"
    }
   },
   "cell_type": "code",
   "source": [
    "# Convert the filtered_gen DataFrame to a NumPy array\n",
    "Xd = np.array(filtered_gen_d)\n",
    "\n",
    "# Convert the filtered_phen DataFrame to a NumPy array\n",
    "Yd = np.array(filtered_phen_d)\n",
    "\n",
    "Xd, Yd"
   ],
   "id": "18bde538ab4b97a7",
   "outputs": [
    {
     "data": {
      "text/plain": [
       "(array([['D', 'D', 'D', 'D', 'D', 'D', 'D', 'D', 'D', 'D', 'D', 'D', 'D',\n",
       "         'D', 'D', 'D', 'D', 'D', 'D', 'D', 'D', 'D', 'D', 'D', 'D', 'D']],\n",
       "       dtype=object),\n",
       " array([[100. ,  50. ,   0. , 100. , 100. , 100. ,  66.7, 100. , 100. ,\n",
       "          66.7,  83.3,   0. , 100. ,  62.5,   0. ,  83.3,  71.4,   0. ,\n",
       "          88.9, 100. ,  85.7,  66.7,  85.7,  80. ,  12.5, 100. ]]))"
      ]
     },
     "execution_count": 84,
     "metadata": {},
     "output_type": "execute_result"
    }
   ],
   "execution_count": 84
  },
  {
   "metadata": {},
   "cell_type": "markdown",
   "source": "# Calc parameters for genotype 'D'",
   "id": "2b5f3e5f7cc2a62e"
  },
  {
   "metadata": {
    "ExecuteTime": {
     "end_time": "2024-07-22T17:02:56.940319Z",
     "start_time": "2024-07-22T17:02:56.931916Z"
    }
   },
   "cell_type": "code",
   "source": [
    "# flatten the data\n",
    "Yd = Yd.flatten()\n",
    "nd = len(Yd) # number of observations for genotype 'D'\n",
    "AVd = np.mean(Yd) # mean of phenotype for genotype 'D'\n",
    "print(f'Number of observations for genotype D: {nd}', f'Mean of phenotype for genotype D: {AVd}')"
   ],
   "id": "7b797766807ebd54",
   "outputs": [
    {
     "name": "stdout",
     "output_type": "stream",
     "text": [
      "Number of observations for genotype D: 26 Mean of phenotype for genotype D: 69.36153846153846\n"
     ]
    }
   ],
   "execution_count": 85
  },
  {
   "metadata": {},
   "cell_type": "markdown",
   "source": "# General parameters",
   "id": "3b60e77a8bc093db"
  },
  {
   "metadata": {
    "ExecuteTime": {
     "end_time": "2024-07-22T17:17:47.786017Z",
     "start_time": "2024-07-22T17:17:47.777192Z"
    }
   },
   "cell_type": "code",
   "source": [
    "# calc total sample size\n",
    "ntot = len(Yb) + len(Yd)\n",
    "\n",
    "# calc the mean of all phenotypes\n",
    "AVtot = np.mean(np.concatenate((Yb, Yd)))\n",
    "\n",
    "# number groups\n",
    "a = 2 # 1 is phen of B, 2 is phen of D\n",
    "\n",
    "# degrees of freedom\n",
    "df_among = a - 1\n",
    "df_within = ntot - a\n",
    "df_total = ntot - 1\n",
    "\n",
    "print(f'Total sample size: {ntot}, Mean of all phenotypes: {AVtot}, Number of groups: {a},\\n df among: {df_among}, df within: {df_within}, df total: {df_total}')"
   ],
   "id": "ee1bb2aa2cba9dfe",
   "outputs": [
    {
     "name": "stdout",
     "output_type": "stream",
     "text": [
      "Total sample size: 64, Mean of all phenotypes: 64.3125, Number of groups: 2,\n",
      " df among: 1, df within: 62, df total: 63\n"
     ]
    }
   ],
   "execution_count": 93
  },
  {
   "metadata": {},
   "cell_type": "markdown",
   "source": "# Calculate the sum of squares for the model",
   "id": "3bb6846127480417"
  },
  {
   "metadata": {
    "ExecuteTime": {
     "end_time": "2024-07-22T17:11:32.958071Z",
     "start_time": "2024-07-22T17:11:32.951597Z"
    }
   },
   "cell_type": "code",
   "source": [
    "SSamong = nb * (AVb - AVtot)**2 + nd * (AVd - AVtot)**2\n",
    "SSwithin = np.sum((Yb - AVb)**2) + np.sum((Yd - AVd)**2)\n",
    "SStot = np.sum((np.concatenate((Yb, Yd)) - AVtot)**2)\n",
    "\n",
    "print(f'SSamong: {round(SSamong,3)}, SSwithin: {round(SSwithin,3)}, SStot: {round(SStot,3)}')"
   ],
   "id": "81716b4f56c4923e",
   "outputs": [
    {
     "name": "stdout",
     "output_type": "stream",
     "text": [
      "SSamong: 1116.316, SSwithin: 94483.474, SStot: 95599.79\n"
     ]
    }
   ],
   "execution_count": 90
  },
  {
   "metadata": {},
   "cell_type": "markdown",
   "source": "# Calculate the Mean of Squares",
   "id": "9325c018746333dd"
  },
  {
   "metadata": {
    "ExecuteTime": {
     "end_time": "2024-07-22T17:18:55.857675Z",
     "start_time": "2024-07-22T17:18:55.841889Z"
    }
   },
   "cell_type": "code",
   "source": [
    "MSamong = SSamong / df_among\n",
    "MSwithin = SSwithin / df_within\n",
    "MStot = SStot / df_total\n",
    "\n",
    "print(f'MSamong: {round(MSamong,3)}, MSwithin: {round(MSwithin,3)}, MStot: {round(MStot,3)}')"
   ],
   "id": "6afcc7da880d9b06",
   "outputs": [
    {
     "name": "stdout",
     "output_type": "stream",
     "text": [
      "MSamong: 1116.316, MSwithin: 1523.927, MStot: 1517.457\n"
     ]
    }
   ],
   "execution_count": 94
  },
  {
   "metadata": {},
   "cell_type": "markdown",
   "source": "# Calculate the F-statistic",
   "id": "cabacbe29212dd32"
  },
  {
   "metadata": {
    "ExecuteTime": {
     "end_time": "2024-07-22T17:21:33.685733Z",
     "start_time": "2024-07-22T17:21:33.634474Z"
    }
   },
   "cell_type": "code",
   "source": [
    "F = MSamong / MSwithin\n",
    "p_value = 1 - stats.f.cdf(F, df_among, df_within)\n",
    "\n",
    "print(f'F-statistic: {round(F,3)}, p-value: {p_value}') # p-value > alpha, therefore, cannot reject the null hypothesis"
   ],
   "id": "99e6edbf7184c5ea",
   "outputs": [
    {
     "name": "stdout",
     "output_type": "stream",
     "text": [
      "F-statistic: 0.733, p-value: 0.39536139653406877\n"
     ]
    }
   ],
   "execution_count": 95
  },
  {
   "metadata": {},
   "cell_type": "markdown",
   "source": "",
   "id": "8d0530ef7400ae68"
  }
 ],
 "metadata": {
  "kernelspec": {
   "display_name": "Python 3",
   "language": "python",
   "name": "python3"
  },
  "language_info": {
   "codemirror_mode": {
    "name": "ipython",
    "version": 2
   },
   "file_extension": ".py",
   "mimetype": "text/x-python",
   "name": "python",
   "nbconvert_exporter": "python",
   "pygments_lexer": "ipython2",
   "version": "2.7.6"
  }
 },
 "nbformat": 4,
 "nbformat_minor": 5
}
